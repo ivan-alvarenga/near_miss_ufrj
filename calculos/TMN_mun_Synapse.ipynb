{
 "cells": [
  {
   "cell_type": "markdown",
   "metadata": {
    "Collapsed": "false"
   },
   "source": [
    "<img src=\"https://github.com/bigdata-icict/ETL-Dataiku-DSS/raw/master/tutoriais/pcdas_1.5.png\">"
   ]
  },
  {
   "cell_type": "markdown",
   "metadata": {
    "Collapsed": "false",
    "toc-hr-collapsed": false
   },
   "source": [
    "# Neonatal mortality rates"
   ]
  },
  {
   "cell_type": "markdown",
   "metadata": {
    "Collapsed": "false"
   },
   "source": [
    "Notebook for calculation of neonatal mortality rates. In this case, it is categorized the rates related to the premature, late and total neonatal deaths. The rates are calculated with yearly and monthly periodicity and refer to different regions, states and cities of Brazil.\n",
    "\n",
    "In order to enable the calculation of neonatal mortality rates, we will demonstrate how to access the SIM and SINASC datasets indexed by Data Science Platform apllied to Health (PCDaS) through R.\n",
    "\n",
    "The SIM and SINASC datasets are available in ElasticSearch indexes (ES), which contain all the individual records of deaths and births, respectively, updated yearly."
   ]
  },
  {
   "cell_type": "markdown",
   "metadata": {
    "Collapsed": "false"
   },
   "source": [
    "## Required packages"
   ]
  },
  {
   "cell_type": "markdown",
   "metadata": {
    "Collapsed": "false"
   },
   "source": [
    "First we define an auxiliary function in order to load the required packages to the execution of this notebook and install any package if it is not available."
   ]
  },
  {
   "cell_type": "code",
   "execution_count": 2,
   "metadata": {
    "Collapsed": "false"
   },
   "outputs": [],
   "source": [
    "loadlibrary <- function(x){\n",
    "  if (!require(x,character.only = TRUE)) {\n",
    "    install.packages(x, repos='http://cran.fiocruz.br/', dep=TRUE)\n",
    "    if(!require(x,character.only = TRUE)) stop(\"Package not found\")\n",
    "  }\n",
    "}"
   ]
  },
  {
   "cell_type": "markdown",
   "metadata": {
    "Collapsed": "false"
   },
   "source": [
    "The access to the index in ES is performed through the package [`elasticsearchr`](https://cran.r-project.org/web/packages/elasticsearchr/elasticsearchr.pdf)."
   ]
  },
  {
   "cell_type": "code",
   "execution_count": 3,
   "metadata": {
    "Collapsed": "false",
    "collapsed": true,
    "jupyter": {
     "outputs_hidden": true
    }
   },
   "outputs": [
    {
     "name": "stderr",
     "output_type": "stream",
     "text": [
      "Loading required package: elasticsearchr\n"
     ]
    }
   ],
   "source": [
    "loadlibrary(\"elasticsearchr\")"
   ]
  },
  {
   "cell_type": "markdown",
   "metadata": {
    "Collapsed": "false"
   },
   "source": [
    "We will also use other libraries from R in order to facilitate the manipulation of the data obtained."
   ]
  },
  {
   "cell_type": "code",
   "execution_count": 4,
   "metadata": {
    "Collapsed": "false"
   },
   "outputs": [
    {
     "name": "stderr",
     "output_type": "stream",
     "text": [
      "Loading required package: dplyr\n",
      "\n",
      "Attaching package: ‘dplyr’\n",
      "\n",
      "The following objects are masked from ‘package:stats’:\n",
      "\n",
      "    filter, lag\n",
      "\n",
      "The following objects are masked from ‘package:base’:\n",
      "\n",
      "    intersect, setdiff, setequal, union\n",
      "\n",
      "Loading required package: curl\n",
      "Loading required package: jsonlite\n",
      "Loading required package: ggplot2\n"
     ]
    },
    {
     "data": {
      "text/html": [
       "<ol>\n",
       "\t<li>NULL</li>\n",
       "\t<li>NULL</li>\n",
       "\t<li>NULL</li>\n",
       "\t<li>NULL</li>\n",
       "</ol>\n"
      ],
      "text/latex": [
       "\\begin{enumerate}\n",
       "\\item NULL\n",
       "\\item NULL\n",
       "\\item NULL\n",
       "\\item NULL\n",
       "\\end{enumerate}\n"
      ],
      "text/markdown": [
       "1. NULL\n",
       "2. NULL\n",
       "3. NULL\n",
       "4. NULL\n",
       "\n",
       "\n"
      ],
      "text/plain": [
       "[[1]]\n",
       "NULL\n",
       "\n",
       "[[2]]\n",
       "NULL\n",
       "\n",
       "[[3]]\n",
       "NULL\n",
       "\n",
       "[[4]]\n",
       "NULL\n"
      ]
     },
     "metadata": {},
     "output_type": "display_data"
    }
   ],
   "source": [
    "packages <- c(\"dplyr\",\"curl\",\"jsonlite\",\"ggplot2\")\n",
    "lapply(packages, loadlibrary)"
   ]
  },
  {
   "cell_type": "markdown",
   "metadata": {
    "Collapsed": "false"
   },
   "source": [
    "## Access to ElasticSearch"
   ]
  },
  {
   "cell_type": "markdown",
   "metadata": {
    "Collapsed": "false"
   },
   "source": [
    "The first step is informing to R the connection parameters to the index in ES.\n",
    "\n",
    "In parameters `es_user` and `es_pwd`, inform the same user and password that you use to access the PCDaS platform."
   ]
  },
  {
   "cell_type": "code",
   "execution_count": 5,
   "metadata": {
    "Collapsed": "false"
   },
   "outputs": [],
   "source": [
    "es_host <- \"dados-pcdas.icict.fiocruz.br\"\n",
    "es_port <- 443\n",
    "es_transport_schema <- \"https\"\n",
    "es_user <- \"\"\n",
    "es_pwd <- \"\"\n",
    "\n",
    "#URL de conexão com o ES\n",
    "es_url <- paste(es_transport_schema,\"://\",es_user,\":\",es_pwd,\"@\",es_host,\":\",es_port,sep=\"\")"
   ]
  },
  {
   "cell_type": "markdown",
   "metadata": {
    "Collapsed": "false"
   },
   "source": [
    "Next, we create an object to access the index of ES containning the SINASC and SIM datasets."
   ]
  },
  {
   "cell_type": "code",
   "execution_count": 6,
   "metadata": {
    "Collapsed": "false"
   },
   "outputs": [],
   "source": [
    "es_sinasc <- elasticsearchr::elastic(es_url, \"datasus-sinasc\")\n",
    "es_sim <- elasticsearchr::elastic(es_url, \"datasus-sim\")"
   ]
  },
  {
   "cell_type": "markdown",
   "metadata": {
    "Collapsed": "false"
   },
   "source": [
    "## Querying data"
   ]
  },
  {
   "cell_type": "markdown",
   "metadata": {
    "Collapsed": "false"
   },
   "source": [
    "We can execute queries in the data and see the documents (records) of the indexes (SIM and SINASC databases) with the command `query` and the operator `%search%`.\n",
    "\n",
    "With the command `query` we can define any kind of query that ES allows using its native JSON syntax.\n",
    "The operator `%search%` executes the defined query, passing its definition to ES and returning the results in a table format, or, `data.frame`.\n",
    "\n",
    "For example, a search for all documents and all fields that exist in an index can be defined in the following way."
   ]
  },
  {
   "cell_type": "code",
   "execution_count": 197,
   "metadata": {
    "Collapsed": "false"
   },
   "outputs": [],
   "source": [
    "all <- query('{\n",
    "                 \"match_all\": {}\n",
    "               }')"
   ]
  },
  {
   "cell_type": "markdown",
   "metadata": {
    "Collapsed": "false"
   },
   "source": [
    "This search could then be executed with the operator `%search%` applied to our connection objects with the indexes SIM `es_sim` and SINASC `es_sinasc`:\n",
    "\n",
    "`es_sim %search% all`\n",
    "\n",
    "`es_sinasc %search% all`"
   ]
  },
  {
   "cell_type": "markdown",
   "metadata": {
    "Collapsed": "false"
   },
   "source": [
    "Nonetheless, since the number of documents in these indexes is significantly big (up to 62 millions), a search like this is not recommended (for being very costly computationally) and many times it can be unnecessary.\n",
    "\n",
    "In this case, it is generaly more interesting the especification of only some fields, filters and mostly agregations that are relevant in order to obtain the desired response.\n",
    "\n",
    "We will explore this possibility in the next steps."
   ]
  },
  {
   "cell_type": "markdown",
   "metadata": {
    "Collapsed": "false"
   },
   "source": [
    "## Building denominators"
   ]
  },
  {
   "cell_type": "markdown",
   "metadata": {
    "Collapsed": "false"
   },
   "source": [
    "### Births per city of residence"
   ]
  },
  {
   "cell_type": "markdown",
   "metadata": {
    "Collapsed": "false"
   },
   "source": [
    "If we want to generate more complex tables of counts, we can use an especific form to get aggregations. \n",
    "\n",
    "For instance, we can build the denominators of the mortality rates through the birth data aggregation (count) over time (months) and for each city of __residence__ of Brazil.\n",
    "\n",
    "An aggregation for the ES needs to be written following a standard. See below:"
   ]
  },
  {
   "cell_type": "code",
   "execution_count": 9,
   "metadata": {
    "Collapsed": "false"
   },
   "outputs": [],
   "source": [
    "agg_sinasc_mun <- aggs('{\n",
    "    \"mes\": {\n",
    "      \"date_histogram\": {\n",
    "        \"field\": \"data_nasc\",\n",
    "        \"interval\": \"1M\",\n",
    "        \"time_zone\": \"UTC\",\n",
    "        \"min_doc_count\": 1\n",
    "      },\n",
    "      \"aggs\": {\n",
    "        \"mun\": {\n",
    "          \"terms\": {\n",
    "            \"field\": \"res_codigo_adotado\",\n",
    "            \"size\": 6000\n",
    "          }\n",
    "        }\n",
    "      }\n",
    "    }\n",
    "  }')"
   ]
  },
  {
   "cell_type": "markdown",
   "metadata": {
    "Collapsed": "false"
   },
   "source": [
    "We are creating an object called `agg_sinasc_mun` in R, which will be used in a query to ES. What does each line of this object mean?\n",
    "* `aggs`: this command declares to ES that you are requiring an aggregation;\n",
    "* `mes` and `mun`: aggregation names. You can modify these names;\n",
    "* `date_histogram`: it declares to ES that you want to do an aggregation based on a date variable, resulting in document counting. Do not modify this line;\n",
    "* `terms`: it declares to ES that ou want to do an aggregation based on a categoric variable, resulting in document counting. Do not modify this line;\n",
    "* `field`: identifies the field by which you desire to do an aggregation, in our case, by date (`data_nasc`) with monthly periodicity (`\"interval\": \"1M\"`), and by city of residence (`res_codigo_adotado`). You can modify those lines with another variable;\n",
    "* `size`: This is the limit of aggregation results.\n",
    "\n",
    "This aggregation is executed with the following code:"
   ]
  },
  {
   "cell_type": "code",
   "execution_count": 23,
   "metadata": {
    "Collapsed": "false"
   },
   "outputs": [],
   "source": [
    "data_sinasc_mun <- es_sinasc %search% agg_sinasc_mun"
   ]
  },
  {
   "cell_type": "markdown",
   "metadata": {
    "Collapsed": "false"
   },
   "source": [
    "In this case, for being a nested aggregation with 2 levels, it is necessary the use of the function `create_df_agg2` to produce a dataframe (table) based on the data contained in `data_sinasc_mun`. The final result is accumulated in the dataframe `df_sinasc_mun` and saved in the file \"df_sinasc_mun.csv\"."
   ]
  },
  {
   "cell_type": "code",
   "execution_count": 11,
   "metadata": {
    "Collapsed": "false"
   },
   "outputs": [],
   "source": [
    "create_df_agg2 <- function(data,bucket_name,names){\n",
    "    \n",
    "    join_df_agg2 <- function(key,agg2){\n",
    "       list(cbind(x1=key, x2=agg2$key, x3=agg2$doc_count))\n",
    "    }\n",
    "    \n",
    "    bucket_var <- paste(bucket_name,\".buckets\",sep=\"\")\n",
    "\n",
    "    df <- do.call(\"rbind\", mapply(join_df_agg2, data$key, data[[bucket_var]], SIMPLIFY = TRUE))\n",
    "    colnames(df) <- names\n",
    "    \n",
    "    return(df)\n",
    "}"
   ]
  },
  {
   "cell_type": "code",
   "execution_count": 44,
   "metadata": {
    "Collapsed": "false"
   },
   "outputs": [],
   "source": [
    "df_sinasc_mun <- create_df_agg2( data_sinasc_mun, \"mun\", c(\"Mes\",\"Municipio\",\"Nascimentos\") )"
   ]
  },
  {
   "cell_type": "code",
   "execution_count": 45,
   "metadata": {
    "Collapsed": "false"
   },
   "outputs": [
    {
     "data": {
      "text/html": [
       "5596"
      ],
      "text/latex": [
       "5596"
      ],
      "text/markdown": [
       "5596"
      ],
      "text/plain": [
       "[1] 5596"
      ]
     },
     "metadata": {},
     "output_type": "display_data"
    }
   ],
   "source": [
    "length(unique(df_sinasc_mun$Municipio))"
   ]
  },
  {
   "cell_type": "markdown",
   "metadata": {
    "Collapsed": "false"
   },
   "source": [
    "The next step is \"cleaning\" inconsistent or ignored city codes according to IBGE."
   ]
  },
  {
   "cell_type": "code",
   "execution_count": 46,
   "metadata": {
    "Collapsed": "false"
   },
   "outputs": [],
   "source": [
    "#List of citys IBGE (source: https://www.ibge.gov.br/explica/codigos-dos-municipios.php)\n",
    "cod_mun <- read.csv(\"CODIGOS_MUNICIPIO_IBGE.csv\")\n",
    "cod_mun <- str_sub(cod_mun$Cod, end = 6)\n",
    "\n",
    "#citys that are listed by IBGE\n",
    "df_sinasc_mun <- df_sinasc_mun[df_sinasc_mun$Municipio %in% cod_mun,]"
   ]
  },
  {
   "cell_type": "code",
   "execution_count": 48,
   "metadata": {
    "Collapsed": "false"
   },
   "outputs": [
    {
     "data": {
      "text/html": [
       "5570"
      ],
      "text/latex": [
       "5570"
      ],
      "text/markdown": [
       "5570"
      ],
      "text/plain": [
       "[1] 5570"
      ]
     },
     "metadata": {},
     "output_type": "display_data"
    }
   ],
   "source": [
    "length(unique(df_sinasc_mun$Municipio))"
   ]
  },
  {
   "cell_type": "markdown",
   "metadata": {
    "Collapsed": "false"
   },
   "source": [
    "Saving the final result in the file \"df_sinasc_res_mun.csv\"."
   ]
  },
  {
   "cell_type": "code",
   "execution_count": 49,
   "metadata": {
    "Collapsed": "false"
   },
   "outputs": [],
   "source": [
    "write.csv(df_sinasc_mun, file = \"df_sinasc_res_mun.csv\", row.names = FALSE)"
   ]
  },
  {
   "cell_type": "markdown",
   "metadata": {
    "Collapsed": "false"
   },
   "source": [
    "### Births per city of birth"
   ]
  },
  {
   "cell_type": "markdown",
   "metadata": {
    "Collapsed": "false"
   },
   "source": [
    "We can also build the denominators of the mortality rates through the birth data aggregation (count) over time (months) and for each city of __birth__ of Brazil.\n",
    "\n",
    "For that, the aggregation defined in the object `agg_sinasc_mun` can be adapted by altering the line `field` with the variable related to the city of occurence of birth (`nasc_codigo_adotado`)."
   ]
  },
  {
   "cell_type": "code",
   "execution_count": 58,
   "metadata": {
    "Collapsed": "false"
   },
   "outputs": [],
   "source": [
    "agg_sinasc_mun <- aggs('{\n",
    "    \"mes\": {\n",
    "      \"date_histogram\": {\n",
    "        \"field\": \"data_nasc\",\n",
    "        \"interval\": \"1M\",\n",
    "        \"time_zone\": \"UTC\",\n",
    "        \"min_doc_count\": 1\n",
    "      },\n",
    "      \"aggs\": {\n",
    "        \"mun\": {\n",
    "          \"terms\": {\n",
    "            \"field\": \"nasc_codigo_adotado\",\n",
    "            \"size\": 6000\n",
    "          }\n",
    "        }\n",
    "      }\n",
    "    }\n",
    "  }')"
   ]
  },
  {
   "cell_type": "markdown",
   "metadata": {
    "Collapsed": "false"
   },
   "source": [
    "In addition, we are only interested in births that occur in hospitals or other healthcare facilities. In order to restrict the searches according to our interest, we can define a filter as shown below:"
   ]
  },
  {
   "cell_type": "code",
   "execution_count": 59,
   "metadata": {
    "Collapsed": "false"
   },
   "outputs": [],
   "source": [
    "filter_hospital <- query('{\n",
    "    \"bool\": {\n",
    "      \"must\": [\n",
    "        {\n",
    "          \"query_string\": {\n",
    "            \"query\": \"def_loc_nasc:Hospital OR def_loc_nasc:(Outro Estab. Saúde)\"\n",
    "          }\n",
    "        }\n",
    "      ]\n",
    "    }\n",
    "}')"
   ]
  },
  {
   "cell_type": "markdown",
   "metadata": {
    "Collapsed": "false"
   },
   "source": [
    "With the code above, we are creating an object called `filter_hospital` in R, which will be used when consulting ES. What does each line of this object mean?\n",
    "* `query`: as seen earlier, this command tells ES that you are requesting a search;\n",
    "* `bool`: this clause allows the construction of filters that have multiple fields. Do not modify this line;\n",
    "* `query_string`: this declares that a line of code will be defined that represents a search, or in this case, a filter. Do not modify this line;\n",
    "* `query`: the value of this clause represents the filter itself, which defines the fields you want to filter based on their respective values. You can modify this filter as needed."
   ]
  },
  {
   "cell_type": "markdown",
   "metadata": {
    "Collapsed": "false"
   },
   "source": [
    "This filter and aggregation are executed with the following code:"
   ]
  },
  {
   "cell_type": "code",
   "execution_count": 60,
   "metadata": {
    "Collapsed": "false"
   },
   "outputs": [],
   "source": [
    "data_sinasc_mun <- es_sinasc %search% (filter_hospital + agg_sinasc_mun)"
   ]
  },
  {
   "cell_type": "code",
   "execution_count": 61,
   "metadata": {
    "Collapsed": "false"
   },
   "outputs": [],
   "source": [
    "df_sinasc_mun <- create_df_agg2( data_sinasc_mun, \"mun\", c(\"Mes\",\"Municipio\",\"Nascimentos\") )"
   ]
  },
  {
   "cell_type": "code",
   "execution_count": 62,
   "metadata": {
    "Collapsed": "false"
   },
   "outputs": [
    {
     "data": {
      "text/html": [
       "5155"
      ],
      "text/latex": [
       "5155"
      ],
      "text/markdown": [
       "5155"
      ],
      "text/plain": [
       "[1] 5155"
      ]
     },
     "metadata": {},
     "output_type": "display_data"
    }
   ],
   "source": [
    "length(unique(df_sinasc_mun$Municipio))"
   ]
  },
  {
   "cell_type": "markdown",
   "metadata": {
    "Collapsed": "false"
   },
   "source": [
    "The next step is \"cleaning\" inconsistent or ignored city codes according to IBGE."
   ]
  },
  {
   "cell_type": "code",
   "execution_count": 46,
   "metadata": {
    "Collapsed": "false"
   },
   "outputs": [],
   "source": [
    "#List of citys IBGE (source: https://www.ibge.gov.br/explica/codigos-dos-municipios.php)\n",
    "cod_mun <- read.csv(\"CODIGOS_MUNICIPIO_IBGE.csv\")\n",
    "cod_mun <- str_sub(cod_mun$Cod, end = 6)\n",
    "\n",
    "#citys that are listed by IBGE\n",
    "df_sinasc_mun <- df_sinasc_mun[df_sinasc_mun$Municipio %in% cod_mun,]"
   ]
  },
  {
   "cell_type": "code",
   "execution_count": 69,
   "metadata": {
    "Collapsed": "false"
   },
   "outputs": [
    {
     "data": {
      "text/html": [
       "4998"
      ],
      "text/latex": [
       "4998"
      ],
      "text/markdown": [
       "4998"
      ],
      "text/plain": [
       "[1] 4998"
      ]
     },
     "metadata": {},
     "output_type": "display_data"
    }
   ],
   "source": [
    "length(unique(df_sinasc_mun$Municipio))"
   ]
  },
  {
   "cell_type": "markdown",
   "metadata": {
    "Collapsed": "false"
   },
   "source": [
    "Saving the final result in the file \"df_sinasc_nasc_mun.csv\"."
   ]
  },
  {
   "cell_type": "code",
   "execution_count": 65,
   "metadata": {
    "Collapsed": "false"
   },
   "outputs": [],
   "source": [
    "write.csv(df_sinasc_mun, file = \"df_sinasc_nasc_mun.csv\", row.names = FALSE)"
   ]
  },
  {
   "cell_type": "markdown",
   "metadata": {
    "Collapsed": "false"
   },
   "source": [
    "## Building numerators"
   ]
  },
  {
   "cell_type": "markdown",
   "metadata": {
    "Collapsed": "false"
   },
   "source": [
    "### Deaths per city of residence"
   ]
  },
  {
   "cell_type": "markdown",
   "metadata": {
    "Collapsed": "false"
   },
   "source": [
    "The process of building numerators for the calculation of the neonatal mortality rates is analogous to that used for building the denominators. The difference is that now we are interested in the caĺculation of the number of deaths.\n",
    "\n",
    "More particulary, we restrict ourselves to the number of neonatal deaths, that means, deaths occured in the age groups between 0 and 6 days (premature neonatal), 7 and 27 days (late neonatal), and between 0 and 27 days (total neonatal). We should, therefore, filter the data accordingly:"
   ]
  },
  {
   "cell_type": "code",
   "execution_count": 12,
   "metadata": {
    "Collapsed": "false"
   },
   "outputs": [],
   "source": [
    "filter_neonatal <- query('{\n",
    "            \"bool\": {\n",
    "              \"must\": [\n",
    "                {\n",
    "                  \"query_string\": {\n",
    "                    \"query\": \"idade_obito_dias: [0 TO 27]\"\n",
    "                  }\n",
    "                }\n",
    "              ]\n",
    "            }\n",
    "        }')\n",
    "\n",
    "filter_neonatal_precoce <- query('{\n",
    "            \"bool\": {\n",
    "              \"must\": [\n",
    "                {\n",
    "                  \"query_string\": {\n",
    "                    \"query\": \"idade_obito_dias: [0 TO 6]\"\n",
    "                  }\n",
    "                }\n",
    "              ]\n",
    "            }\n",
    "        }')\n",
    "\n",
    "filter_neonatal_tardio <- query('{\n",
    "            \"bool\": {\n",
    "              \"must\": [\n",
    "                {\n",
    "                  \"query_string\": {\n",
    "                    \"query\": \"idade_obito_dias: [7 TO 27]\"\n",
    "                  }\n",
    "                }\n",
    "              ]\n",
    "            }\n",
    "        }')"
   ]
  },
  {
   "cell_type": "markdown",
   "metadata": {
    "Collapsed": "false"
   },
   "source": [
    "We define a death data aggregation by month and by city of __residence__ analogous to that defined for denominators building:"
   ]
  },
  {
   "cell_type": "code",
   "execution_count": 13,
   "metadata": {
    "Collapsed": "false"
   },
   "outputs": [],
   "source": [
    "agg_sim_mun <- aggs('{\n",
    "    \"mes\": {\n",
    "      \"date_histogram\": {\n",
    "        \"field\": \"data_nasc\",\n",
    "        \"interval\": \"1M\",\n",
    "        \"time_zone\": \"UTC\",\n",
    "        \"min_doc_count\": 1\n",
    "      },\n",
    "      \"aggs\": {\n",
    "        \"mun\": {\n",
    "          \"terms\": {\n",
    "            \"field\": \"res_codigo_adotado\",\n",
    "            \"size\": 6000\n",
    "          }\n",
    "        }\n",
    "      }\n",
    "    }\n",
    "  }')"
   ]
  },
  {
   "cell_type": "markdown",
   "metadata": {
    "Collapsed": "false"
   },
   "source": [
    "We execute now the aggregation of neonatal deaths (__totals__), saving the results in the file \"df_sim_res_mun_neo.csv\":"
   ]
  },
  {
   "cell_type": "code",
   "execution_count": 12,
   "metadata": {
    "Collapsed": "false"
   },
   "outputs": [],
   "source": [
    "data_sim_mun_neo <- es_sim %search% (filter_neonatal + agg_sim_mun)"
   ]
  },
  {
   "cell_type": "code",
   "execution_count": 10,
   "metadata": {
    "Collapsed": "false"
   },
   "outputs": [],
   "source": [
    "df_sim_mun_neo <- create_df_agg2( data_sim_mun_neo, \"mun\", c(\"Mes\",\"Municipio\",\"Obitos\") )"
   ]
  },
  {
   "cell_type": "code",
   "execution_count": 11,
   "metadata": {
    "Collapsed": "false"
   },
   "outputs": [
    {
     "data": {
      "text/html": [
       "5585"
      ],
      "text/latex": [
       "5585"
      ],
      "text/markdown": [
       "5585"
      ],
      "text/plain": [
       "[1] 5585"
      ]
     },
     "metadata": {},
     "output_type": "display_data"
    }
   ],
   "source": [
    "length(unique(df_sim_mun_neo$Municipio))"
   ]
  },
  {
   "cell_type": "markdown",
   "metadata": {
    "Collapsed": "false"
   },
   "source": [
    "The next step is \"cleaning\" inconsistent or ignored city codes according to IBGE."
   ]
  },
  {
   "cell_type": "code",
   "execution_count": 46,
   "metadata": {
    "Collapsed": "false"
   },
   "outputs": [],
   "source": [
    "#List of citys IBGE (source: https://www.ibge.gov.br/explica/codigos-dos-municipios.php)\n",
    "cod_mun <- read.csv(\"CODIGOS_MUNICIPIO_IBGE.csv\")\n",
    "cod_mun <- str_sub(cod_mun$Cod, end = 6)\n",
    "\n",
    "#citys that are listed by IBGE\n",
    "df_sim_mun_neo <- df_sim_mun_neo[df_sim_mun_neo$Municipio %in% cod_mun,]"
   ]
  },
  {
   "cell_type": "code",
   "execution_count": 13,
   "metadata": {
    "Collapsed": "false"
   },
   "outputs": [
    {
     "data": {
      "text/html": [
       "5560"
      ],
      "text/latex": [
       "5560"
      ],
      "text/markdown": [
       "5560"
      ],
      "text/plain": [
       "[1] 5560"
      ]
     },
     "metadata": {},
     "output_type": "display_data"
    }
   ],
   "source": [
    "length(unique(df_sim_mun_neo$Municipio))"
   ]
  },
  {
   "cell_type": "code",
   "execution_count": 14,
   "metadata": {
    "Collapsed": "false"
   },
   "outputs": [],
   "source": [
    "write.csv(df_sim_mun_neo, file = \"df_sim_res_mun_neo.csv\", row.names = FALSE)"
   ]
  },
  {
   "cell_type": "markdown",
   "metadata": {
    "Collapsed": "false"
   },
   "source": [
    "The aggregation of __premature__ neonatal deaths are saved in the file \"df_sim_res_mun_neo_pre.csv\":"
   ]
  },
  {
   "cell_type": "code",
   "execution_count": 15,
   "metadata": {
    "Collapsed": "false"
   },
   "outputs": [],
   "source": [
    "data_sim_mun_neo_pre <- es_sim %search% (filter_neonatal_precoce + agg_sim_mun)"
   ]
  },
  {
   "cell_type": "code",
   "execution_count": 16,
   "metadata": {
    "Collapsed": "false"
   },
   "outputs": [],
   "source": [
    "df_sim_mun_neo_pre <- create_df_agg2( data_sim_mun_neo_pre, \"mun\", c(\"Mes\",\"Municipio\",\"Obitos\") )"
   ]
  },
  {
   "cell_type": "code",
   "execution_count": 17,
   "metadata": {
    "Collapsed": "false"
   },
   "outputs": [
    {
     "data": {
      "text/html": [
       "5572"
      ],
      "text/latex": [
       "5572"
      ],
      "text/markdown": [
       "5572"
      ],
      "text/plain": [
       "[1] 5572"
      ]
     },
     "metadata": {},
     "output_type": "display_data"
    }
   ],
   "source": [
    "length(unique(df_sim_mun_neo_pre$Municipio))"
   ]
  },
  {
   "cell_type": "markdown",
   "metadata": {
    "Collapsed": "false"
   },
   "source": [
    "The next step is \"cleaning\" inconsistent or ignored city codes according to IBGE."
   ]
  },
  {
   "cell_type": "code",
   "execution_count": 18,
   "metadata": {
    "Collapsed": "false"
   },
   "outputs": [],
   "source": [
    "#List of citys IBGE (source: https://www.ibge.gov.br/explica/codigos-dos-municipios.php)\n",
    "cod_mun <- read.csv(\"CODIGOS_MUNICIPIO_IBGE.csv\")\n",
    "cod_mun <- str_sub(cod_mun$Cod, end = 6)\n",
    "\n",
    "#citys that are listed by IBGE\n",
    "df_sim_mun_neo_pre <- df_sim_mun_neo_pre[df_sim_mun_neo_pre$Municipio %in% cod_mun,]"
   ]
  },
  {
   "cell_type": "code",
   "execution_count": 19,
   "metadata": {
    "Collapsed": "false"
   },
   "outputs": [
    {
     "data": {
      "text/html": [
       "5547"
      ],
      "text/latex": [
       "5547"
      ],
      "text/markdown": [
       "5547"
      ],
      "text/plain": [
       "[1] 5547"
      ]
     },
     "metadata": {},
     "output_type": "display_data"
    }
   ],
   "source": [
    "length(unique(df_sim_mun_neo_pre$Municipio))"
   ]
  },
  {
   "cell_type": "code",
   "execution_count": 20,
   "metadata": {
    "Collapsed": "false"
   },
   "outputs": [],
   "source": [
    "write.csv(df_sim_mun_neo_pre, file = \"df_sim_res_mun_neo_pre.csv\", row.names = FALSE)"
   ]
  },
  {
   "cell_type": "markdown",
   "metadata": {
    "Collapsed": "false"
   },
   "source": [
    "The aggregation of __late__ neonatal deaths are saved in the file \"df_sim_res_mun_neo_tar.csv\":"
   ]
  },
  {
   "cell_type": "code",
   "execution_count": 21,
   "metadata": {
    "Collapsed": "false"
   },
   "outputs": [],
   "source": [
    "data_sim_mun_neo_tar <- es_sim %search% (filter_neonatal_tardio + agg_sim_mun)"
   ]
  },
  {
   "cell_type": "code",
   "execution_count": 22,
   "metadata": {
    "Collapsed": "false"
   },
   "outputs": [],
   "source": [
    "df_sim_mun_neo_tar <- create_df_agg2( data_sim_mun_neo_tar, \"mun\", c(\"Mes\",\"Municipio\",\"Obitos\") )"
   ]
  },
  {
   "cell_type": "code",
   "execution_count": 23,
   "metadata": {
    "Collapsed": "false"
   },
   "outputs": [
    {
     "data": {
      "text/html": [
       "5313"
      ],
      "text/latex": [
       "5313"
      ],
      "text/markdown": [
       "5313"
      ],
      "text/plain": [
       "[1] 5313"
      ]
     },
     "metadata": {},
     "output_type": "display_data"
    }
   ],
   "source": [
    "length(unique(df_sim_mun_neo_tar$Municipio))"
   ]
  },
  {
   "cell_type": "markdown",
   "metadata": {
    "Collapsed": "false"
   },
   "source": [
    "The next step is \"cleaning\" inconsistent or ignored city codes according to IBGE."
   ]
  },
  {
   "cell_type": "code",
   "execution_count": 24,
   "metadata": {
    "Collapsed": "false"
   },
   "outputs": [],
   "source": [
    "#List of citys IBGE (source: https://www.ibge.gov.br/explica/codigos-dos-municipios.php)\n",
    "cod_mun <- read.csv(\"CODIGOS_MUNICIPIO_IBGE.csv\")\n",
    "cod_mun <- str_sub(cod_mun$Cod, end = 6)\n",
    "\n",
    "#citys that are listed by IBGE\n",
    "df_sim_mun_neo_tar <- df_sim_mun_neo_tar[df_sim_mun_neo_tar$Municipio %in% cod_mun,]"
   ]
  },
  {
   "cell_type": "code",
   "execution_count": 25,
   "metadata": {
    "Collapsed": "false"
   },
   "outputs": [
    {
     "data": {
      "text/html": [
       "5290"
      ],
      "text/latex": [
       "5290"
      ],
      "text/markdown": [
       "5290"
      ],
      "text/plain": [
       "[1] 5290"
      ]
     },
     "metadata": {},
     "output_type": "display_data"
    }
   ],
   "source": [
    "length(unique(df_sim_mun_neo_tar$Municipio))"
   ]
  },
  {
   "cell_type": "code",
   "execution_count": 26,
   "metadata": {
    "Collapsed": "false"
   },
   "outputs": [],
   "source": [
    "write.csv(df_sim_mun_neo_tar, file = \"df_sim_res_mun_neo_tar.csv\", row.names = FALSE)"
   ]
  },
  {
   "cell_type": "markdown",
   "metadata": {
    "Collapsed": "false"
   },
   "source": [
    "### Deaths per city of occurence"
   ]
  },
  {
   "cell_type": "markdown",
   "metadata": {
    "Collapsed": "false"
   },
   "source": [
    "As for the production of denominators by city of occurrence of births, we are only interested in deaths occurring in hospitals or other health facilities. For this, we adapted the filters with the addition of the filter related to the __place of occurrence__ of death:"
   ]
  },
  {
   "cell_type": "code",
   "execution_count": 27,
   "metadata": {
    "Collapsed": "false"
   },
   "outputs": [],
   "source": [
    "filter_neonatal <- query('{\n",
    "            \"bool\": {\n",
    "              \"must\": [\n",
    "                {\n",
    "                  \"query_string\": {\n",
    "                    \"query\": \"idade_obito_dias: [0 TO 27] AND (def_loc_ocor:Hospital OR def_loc_ocor:(Outro Estab. Saúde))\"\n",
    "                  }\n",
    "                }\n",
    "              ]\n",
    "            }\n",
    "        }')\n",
    "\n",
    "filter_neonatal_precoce <- query('{\n",
    "            \"bool\": {\n",
    "              \"must\": [\n",
    "                {\n",
    "                  \"query_string\": {\n",
    "                    \"query\": \"idade_obito_dias: [0 TO 6] AND (def_loc_ocor:Hospital OR def_loc_ocor:(Outro Estab. Saúde))\"\n",
    "                  }\n",
    "                }\n",
    "              ]\n",
    "            }\n",
    "        }')\n",
    "\n",
    "filter_neonatal_tardio <- query('{\n",
    "            \"bool\": {\n",
    "              \"must\": [\n",
    "                {\n",
    "                  \"query_string\": {\n",
    "                    \"query\": \"idade_obito_dias: [7 TO 27] AND (def_loc_ocor:Hospital OR def_loc_ocor:(Outro Estab. Saúde))\"\n",
    "                  }\n",
    "                }\n",
    "              ]\n",
    "            }\n",
    "        }')"
   ]
  },
  {
   "cell_type": "markdown",
   "metadata": {
    "Collapsed": "false"
   },
   "source": [
    "We define an aggregation of death data by month and by city of __occurrence__ similar to the one defined for the construction of the denominators:"
   ]
  },
  {
   "cell_type": "code",
   "execution_count": 28,
   "metadata": {
    "Collapsed": "false"
   },
   "outputs": [],
   "source": [
    "agg_sim_mun <- aggs('{\n",
    "    \"mes\": {\n",
    "      \"date_histogram\": {\n",
    "        \"field\": \"data_nasc\",\n",
    "        \"interval\": \"1M\",\n",
    "        \"time_zone\": \"UTC\",\n",
    "        \"min_doc_count\": 1\n",
    "      },\n",
    "      \"aggs\": {\n",
    "        \"mun\": {\n",
    "          \"terms\": {\n",
    "            \"field\": \"ocor_codigo_adotado\",\n",
    "            \"size\": 6000\n",
    "          }\n",
    "        }\n",
    "      }\n",
    "    }\n",
    "  }')"
   ]
  },
  {
   "cell_type": "markdown",
   "metadata": {
    "Collapsed": "false"
   },
   "source": [
    "We execute now the aggregation of neonatal deaths (__totals__), saving the results in the file \"df_sim_ocor_mun_neo.csv\":"
   ]
  },
  {
   "cell_type": "code",
   "execution_count": 29,
   "metadata": {
    "Collapsed": "false"
   },
   "outputs": [],
   "source": [
    "data_sim_mun_neo <- es_sim %search% (filter_neonatal + agg_sim_mun)"
   ]
  },
  {
   "cell_type": "code",
   "execution_count": 30,
   "metadata": {
    "Collapsed": "false"
   },
   "outputs": [],
   "source": [
    "df_sim_mun_neo <- create_df_agg2( data_sim_mun_neo, \"mun\", c(\"Mes\",\"Municipio\",\"Obitos\") )"
   ]
  },
  {
   "cell_type": "code",
   "execution_count": 31,
   "metadata": {
    "Collapsed": "false"
   },
   "outputs": [
    {
     "data": {
      "text/html": [
       "4175"
      ],
      "text/latex": [
       "4175"
      ],
      "text/markdown": [
       "4175"
      ],
      "text/plain": [
       "[1] 4175"
      ]
     },
     "metadata": {},
     "output_type": "display_data"
    }
   ],
   "source": [
    "length(unique(df_sim_mun_neo$Municipio))"
   ]
  },
  {
   "cell_type": "markdown",
   "metadata": {
    "Collapsed": "false"
   },
   "source": [
    "The next step is \"cleaning\" inconsistent or ignored city codes according to IBGE."
   ]
  },
  {
   "cell_type": "code",
   "execution_count": 46,
   "metadata": {
    "Collapsed": "false"
   },
   "outputs": [],
   "source": [
    "#List of citys IBGE (source: https://www.ibge.gov.br/explica/codigos-dos-municipios.php)\n",
    "cod_mun <- read.csv(\"CODIGOS_MUNICIPIO_IBGE.csv\")\n",
    "cod_mun <- str_sub(cod_mun$Cod, end = 6)\n",
    "\n",
    "#citys that are listed by IBGE\n",
    "df_sim_mun_neo <- df_sim_mun_neo[df_sim_mun_neo$Municipio %in% cod_mun,]"
   ]
  },
  {
   "cell_type": "code",
   "execution_count": 33,
   "metadata": {
    "Collapsed": "false"
   },
   "outputs": [
    {
     "data": {
      "text/html": [
       "3889"
      ],
      "text/latex": [
       "3889"
      ],
      "text/markdown": [
       "3889"
      ],
      "text/plain": [
       "[1] 3889"
      ]
     },
     "metadata": {},
     "output_type": "display_data"
    }
   ],
   "source": [
    "length(unique(df_sim_mun_neo$Municipio))"
   ]
  },
  {
   "cell_type": "code",
   "execution_count": 34,
   "metadata": {
    "Collapsed": "false"
   },
   "outputs": [],
   "source": [
    "write.csv(df_sim_mun_neo, file = \"df_sim_ocor_mun_neo.csv\", row.names = FALSE)"
   ]
  },
  {
   "cell_type": "markdown",
   "metadata": {
    "Collapsed": "false"
   },
   "source": [
    "The aggregation of __premature__ neonatal deaths are saved in the file \"df_sim_ocor_mun_neo_pre.csv\":"
   ]
  },
  {
   "cell_type": "code",
   "execution_count": 35,
   "metadata": {
    "Collapsed": "false"
   },
   "outputs": [],
   "source": [
    "data_sim_mun_neo_pre <- es_sim %search% (filter_neonatal_precoce + agg_sim_mun)"
   ]
  },
  {
   "cell_type": "code",
   "execution_count": 36,
   "metadata": {
    "Collapsed": "false"
   },
   "outputs": [],
   "source": [
    "df_sim_mun_neo_pre <- create_df_agg2( data_sim_mun_neo_pre, \"mun\", c(\"Mes\",\"Municipio\",\"Obitos\") )"
   ]
  },
  {
   "cell_type": "code",
   "execution_count": 37,
   "metadata": {
    "Collapsed": "false"
   },
   "outputs": [
    {
     "data": {
      "text/html": [
       "4080"
      ],
      "text/latex": [
       "4080"
      ],
      "text/markdown": [
       "4080"
      ],
      "text/plain": [
       "[1] 4080"
      ]
     },
     "metadata": {},
     "output_type": "display_data"
    }
   ],
   "source": [
    "length(unique(df_sim_mun_neo_pre$Municipio))"
   ]
  },
  {
   "cell_type": "markdown",
   "metadata": {
    "Collapsed": "false"
   },
   "source": [
    "The next step is \"cleaning\" inconsistent or ignored city codes according to IBGE."
   ]
  },
  {
   "cell_type": "code",
   "execution_count": 18,
   "metadata": {
    "Collapsed": "false"
   },
   "outputs": [],
   "source": [
    "#List of citys IBGE (source: https://www.ibge.gov.br/explica/codigos-dos-municipios.php)\n",
    "cod_mun <- read.csv(\"CODIGOS_MUNICIPIO_IBGE.csv\")\n",
    "cod_mun <- str_sub(cod_mun$Cod, end = 6)\n",
    "\n",
    "#citys that are listed by IBGE\n",
    "df_sim_mun_neo_pre <- df_sim_mun_neo_pre[df_sim_mun_neo_pre$Municipio %in% cod_mun,]"
   ]
  },
  {
   "cell_type": "code",
   "execution_count": 39,
   "metadata": {
    "Collapsed": "false"
   },
   "outputs": [
    {
     "data": {
      "text/html": [
       "3810"
      ],
      "text/latex": [
       "3810"
      ],
      "text/markdown": [
       "3810"
      ],
      "text/plain": [
       "[1] 3810"
      ]
     },
     "metadata": {},
     "output_type": "display_data"
    }
   ],
   "source": [
    "length(unique(df_sim_mun_neo_pre$Municipio))"
   ]
  },
  {
   "cell_type": "code",
   "execution_count": 40,
   "metadata": {
    "Collapsed": "false"
   },
   "outputs": [],
   "source": [
    "write.csv(df_sim_mun_neo_pre, file = \"df_sim_ocor_mun_neo_pre.csv\", row.names = FALSE)"
   ]
  },
  {
   "cell_type": "markdown",
   "metadata": {
    "Collapsed": "false"
   },
   "source": [
    "The aggregation of __late__ neonatal deaths are saved in the file \"df_sim_ocor_mun_neo_tar.csv\":"
   ]
  },
  {
   "cell_type": "code",
   "execution_count": 41,
   "metadata": {
    "Collapsed": "false"
   },
   "outputs": [],
   "source": [
    "data_sim_mun_neo_tar <- es_sim %search% (filter_neonatal_tardio + agg_sim_mun)"
   ]
  },
  {
   "cell_type": "code",
   "execution_count": 42,
   "metadata": {
    "Collapsed": "false"
   },
   "outputs": [],
   "source": [
    "df_sim_mun_neo_tar <- create_df_agg2( data_sim_mun_neo_tar, \"mun\", c(\"Mes\",\"Municipio\",\"Obitos\") )"
   ]
  },
  {
   "cell_type": "code",
   "execution_count": 43,
   "metadata": {
    "Collapsed": "false"
   },
   "outputs": [
    {
     "data": {
      "text/html": [
       "2484"
      ],
      "text/latex": [
       "2484"
      ],
      "text/markdown": [
       "2484"
      ],
      "text/plain": [
       "[1] 2484"
      ]
     },
     "metadata": {},
     "output_type": "display_data"
    }
   ],
   "source": [
    "length(unique(df_sim_mun_neo_tar$Municipio))"
   ]
  },
  {
   "cell_type": "markdown",
   "metadata": {
    "Collapsed": "false"
   },
   "source": [
    "The next step is \"cleaning\" inconsistent or ignored city codes according to IBGE."
   ]
  },
  {
   "cell_type": "code",
   "execution_count": 24,
   "metadata": {
    "Collapsed": "false"
   },
   "outputs": [],
   "source": [
    "#List of citys IBGE (source: https://www.ibge.gov.br/explica/codigos-dos-municipios.php)\n",
    "cod_mun <- read.csv(\"CODIGOS_MUNICIPIO_IBGE.csv\")\n",
    "cod_mun <- str_sub(cod_mun$Cod, end = 6)\n",
    "\n",
    "#citys that are listed by IBGE\n",
    "df_sim_mun_neo_tar <- df_sim_mun_neo_tar[df_sim_mun_neo_tar$Municipio %in% cod_mun,]"
   ]
  },
  {
   "cell_type": "code",
   "execution_count": 45,
   "metadata": {
    "Collapsed": "false"
   },
   "outputs": [
    {
     "data": {
      "text/html": [
       "2389"
      ],
      "text/latex": [
       "2389"
      ],
      "text/markdown": [
       "2389"
      ],
      "text/plain": [
       "[1] 2389"
      ]
     },
     "metadata": {},
     "output_type": "display_data"
    }
   ],
   "source": [
    "length(unique(df_sim_mun_neo_tar$Municipio))"
   ]
  },
  {
   "cell_type": "code",
   "execution_count": 46,
   "metadata": {
    "Collapsed": "false"
   },
   "outputs": [],
   "source": [
    "write.csv(df_sim_mun_neo_tar, file = \"df_sim_ocor_mun_neo_tar.csv\", row.names = FALSE)"
   ]
  }
 ],
 "metadata": {
  "kernelspec": {
   "display_name": "R",
   "language": "R",
   "name": "ir"
  },
  "language_info": {
   "codemirror_mode": "r",
   "file_extension": ".r",
   "mimetype": "text/x-r-source",
   "name": "R",
   "pygments_lexer": "r",
   "version": "3.6.3"
  },
  "toc-autonumbering": true,
  "toc-showcode": true,
  "toc-showmarkdowntxt": true,
  "toc-showtags": false
 },
 "nbformat": 4,
 "nbformat_minor": 4
}
