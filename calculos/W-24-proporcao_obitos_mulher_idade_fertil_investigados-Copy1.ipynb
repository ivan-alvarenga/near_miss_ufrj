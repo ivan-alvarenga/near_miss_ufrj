{
 "cells": [
  {
   "cell_type": "markdown",
   "metadata": {},
   "source": [
    "# Introdução"
   ]
  },
  {
   "cell_type": "markdown",
   "metadata": {},
   "source": [
    "## Importação das bibliotecas necessarias"
   ]
  },
  {
   "cell_type": "code",
   "execution_count": 1,
   "metadata": {},
   "outputs": [],
   "source": [
    "%matplotlib inline\n",
    "import pandas as pd\n",
    "import subprocess\n",
    "import requests\n",
    "import json\n",
    "import sys\n",
    "import os\n",
    "import re"
   ]
  },
  {
   "cell_type": "markdown",
   "metadata": {},
   "source": [
    "## Funções auxiliares"
   ]
  },
  {
   "cell_type": "code",
   "execution_count": 18,
   "metadata": {},
   "outputs": [],
   "source": [
    "def return_sql_query(query_string):\n",
    "    ret = {\n",
    "        \"token\": {\n",
    "            \"token\": token\n",
    "        },\n",
    "        \"sql\": {\n",
    "            \"sql\": {\n",
    "                \"query\":query_string\n",
    "            }\n",
    "        }\n",
    "    }\n",
    "    return ret\n",
    "\n",
    "def json_to_df(resp):\n",
    "    columns = [col['name'] for col in resp.json()['columns']]\n",
    "    values = resp.json()['rows']  \n",
    "    return pd.DataFrame(values, columns=columns)\n",
    "\n",
    "def rows_and_columns_to_df(columns, rows):\n",
    "    columns_array = [col['name'] for col in columns]\n",
    "    return pd.DataFrame(rows, columns=columns_array)\n",
    "\n",
    "def fetch_from_tabnet(year, tipo):\n",
    "    if tipo == 'materno':\n",
    "        incremento = '%D3bitos_maternos'\n",
    "    elif tipo == 'fertil':\n",
    "        incremento = '%D3bitos_mulheres_idade_f%E9rtil'\n",
    "\n",
    "    command = \"curl -X POST 'http://tabnet.datasus.gov.br/cgi/tabcgi.exe?sim/cnv/mat10br.def' --data 'Linha=Munic%EDpio&Coluna=%D3bito_investigado&Incremento=\"+incremento+\"&Arquivos=matbr\"+year+\".dbf&pesqmes1=Digite+o+texto+e+ache+f%E1cil&SMunic%EDpio=TODAS_AS_CATEGORIAS__&pesqmes2=Digite+o+texto+e+ache+f%E1cil&SCapital=TODAS_AS_CATEGORIAS__&pesqmes3=Digite+o+texto+e+ache+f%E1cil&SRegi%E3o_de_Sa%FAde_%28CIR%29=TODAS_AS_CATEGORIAS__&pesqmes4=Digite+o+texto+e+ache+f%E1cil&SMacrorregi%E3o_de_Sa%FAde=TODAS_AS_CATEGORIAS__&pesqmes5=Digite+o+texto+e+ache+f%E1cil&SMicrorregi%E3o_IBGE=TODAS_AS_CATEGORIAS__&pesqmes6=Digite+o+texto+e+ache+f%E1cil&SRegi%E3o_Metropolitana_-_RIDE=TODAS_AS_CATEGORIAS__&pesqmes7=Digite+o+texto+e+ache+f%E1cil&STerrit%F3rio_da_Cidadania=TODAS_AS_CATEGORIAS__&pesqmes8=Digite+o+texto+e+ache+f%E1cil&SMesorregi%E3o_PNDR=TODAS_AS_CATEGORIAS__&SAmaz%F4nia_Legal=TODAS_AS_CATEGORIAS__&SSemi%E1rido=TODAS_AS_CATEGORIAS__&SFaixa_de_Fronteira=TODAS_AS_CATEGORIAS__&SZona_de_Fronteira=TODAS_AS_CATEGORIAS__&SMunic%EDpio_de_extrema_pobreza=TODAS_AS_CATEGORIAS__&pesqmes14=Digite+o+texto+e+ache+f%E1cil&SCap%EDtulo_CID-10=TODAS_AS_CATEGORIAS__&pesqmes15=Digite+o+texto+e+ache+f%E1cil&SGrupo_CID-10=TODAS_AS_CATEGORIAS__&pesqmes16=Digite+o+texto+e+ache+f%E1cil&SCategoria_CID-10=TODAS_AS_CATEGORIAS__&STipo_causa_obst%E9tr=TODAS_AS_CATEGORIAS__&pesqmes18=Digite+o+texto+e+ache+f%E1cil&SFaixa_Et%E1ria=TODAS_AS_CATEGORIAS__&pesqmes19=Digite+o+texto+e+ache+f%E1cil&SFaixa_Et%E1ria_OPS=TODAS_AS_CATEGORIAS__&pesqmes20=Digite+o+texto+e+ache+f%E1cil&SFaixa_Et%E1ria_det=TODAS_AS_CATEGORIAS__&SCor%2Fra%E7a=TODAS_AS_CATEGORIAS__&SEscolaridade=TODAS_AS_CATEGORIAS__&SEstado_civil=TODAS_AS_CATEGORIAS__&SLocal_ocorr%EAncia=TODAS_AS_CATEGORIAS__&SMorte_grav%2Fpuerp=TODAS_AS_CATEGORIAS__&S%D3bito_investigado=TODAS_AS_CATEGORIAS__&formato=prn&mostre=Mostra'\"\n",
    "    raw_data = subprocess.check_output(command, shell=True)\n",
    "    pro_data_1 = re.split('PRE>', raw_data.decode(\"iso-8859-1\"))\n",
    "    if len(pro_data_1) > 1:\n",
    "        pro_data_2 = pro_data_1[1]\n",
    "    else:\n",
    "        pro_data_2 = ''\n",
    "    pro_data_3 = pro_data_2.split('\\n')\n",
    "    pro_data_4 = pro_data_3[2:-3]\n",
    "    pro_data_5 = []\n",
    "    line = ''\n",
    "    for i in pro_data_4:\n",
    "        line = i\n",
    "        line = line.split('\\r')[0]\n",
    "        col = line.split('\\\"')\n",
    "        cod_mun_res = re.search('[0-9]{6}', col[1])\n",
    "        if cod_mun_res != None:\n",
    "            col[1] = cod_mun_res.group()\n",
    "        line = ''.join(col)\n",
    "        line = line.replace('-', '0')\n",
    "        line = line.split(\";\")\n",
    "        line.append(((int(line[1])+int(line[2]))/int(line[4]))*100)\n",
    "        line.insert(1, '20'+year)\n",
    "        pro_data_5.append(line)\n",
    "    return pro_data_5\n"
   ]
  },
  {
   "cell_type": "markdown",
   "metadata": {
    "toc-hr-collapsed": false
   },
   "source": [
    "# Proporção de óbitos de mulher em idade fértil investigados (SIM)"
   ]
  },
  {
   "cell_type": "markdown",
   "metadata": {},
   "source": [
    "## Pegar dados do Tabnet"
   ]
  },
  {
   "cell_type": "code",
   "execution_count": 19,
   "metadata": {},
   "outputs": [],
   "source": [
    "year_data = []\n",
    "for i in range(8):\n",
    "    year_data.extend(fetch_from_tabnet(str(12+i).zfill(2), 'fertil'))"
   ]
  },
  {
   "cell_type": "code",
   "execution_count": 20,
   "metadata": {},
   "outputs": [],
   "source": [
    "df=pd.DataFrame(year_data)\n",
    "df.head()\n",
    "df=df.rename(columns = {0:'CODMUNRES'})\n",
    "df=df.rename(columns = {1:'Ano'})\n",
    "# Óbito investigado, com ficha síntese informada\n",
    "df=df.rename(columns = {2:'OICFSI'})\n",
    "# Óbito investigado, sem ficha síntese informada\n",
    "df=df.rename(columns = {3:'OISFSI'})\n",
    "# Óbito não investigado\n",
    "df=df.rename(columns = {4:'ONI'})\n",
    "df=df.rename(columns = {5:'Total'})\n",
    "df=df.rename(columns = {6:'Indicador'})\n",
    "df=df.sort_values(by=['CODMUNRES','Ano']).reset_index(drop=True)"
   ]
  },
  {
   "cell_type": "code",
   "execution_count": 22,
   "metadata": {},
   "outputs": [
    {
     "data": {
      "text/html": [
       "<div>\n",
       "<style scoped>\n",
       "    .dataframe tbody tr th:only-of-type {\n",
       "        vertical-align: middle;\n",
       "    }\n",
       "\n",
       "    .dataframe tbody tr th {\n",
       "        vertical-align: top;\n",
       "    }\n",
       "\n",
       "    .dataframe thead th {\n",
       "        text-align: right;\n",
       "    }\n",
       "</style>\n",
       "<table border=\"1\" class=\"dataframe\">\n",
       "  <thead>\n",
       "    <tr style=\"text-align: right;\">\n",
       "      <th></th>\n",
       "      <th>CODMUNRES</th>\n",
       "      <th>Ano</th>\n",
       "      <th>OICFSI</th>\n",
       "      <th>OISFSI</th>\n",
       "      <th>ONI</th>\n",
       "      <th>Total</th>\n",
       "      <th>Indicador</th>\n",
       "    </tr>\n",
       "  </thead>\n",
       "  <tbody>\n",
       "    <tr>\n",
       "      <th>23507</th>\n",
       "      <td>330455</td>\n",
       "      <td>2012</td>\n",
       "      <td>1991</td>\n",
       "      <td>167</td>\n",
       "      <td>331</td>\n",
       "      <td>2489</td>\n",
       "      <td>86.701487</td>\n",
       "    </tr>\n",
       "    <tr>\n",
       "      <th>23508</th>\n",
       "      <td>330455</td>\n",
       "      <td>2013</td>\n",
       "      <td>2100</td>\n",
       "      <td>143</td>\n",
       "      <td>244</td>\n",
       "      <td>2487</td>\n",
       "      <td>90.188983</td>\n",
       "    </tr>\n",
       "    <tr>\n",
       "      <th>23509</th>\n",
       "      <td>330455</td>\n",
       "      <td>2014</td>\n",
       "      <td>2297</td>\n",
       "      <td>46</td>\n",
       "      <td>111</td>\n",
       "      <td>2454</td>\n",
       "      <td>95.476773</td>\n",
       "    </tr>\n",
       "    <tr>\n",
       "      <th>23510</th>\n",
       "      <td>330455</td>\n",
       "      <td>2015</td>\n",
       "      <td>2195</td>\n",
       "      <td>100</td>\n",
       "      <td>154</td>\n",
       "      <td>2449</td>\n",
       "      <td>93.711719</td>\n",
       "    </tr>\n",
       "    <tr>\n",
       "      <th>23511</th>\n",
       "      <td>330455</td>\n",
       "      <td>2016</td>\n",
       "      <td>2195</td>\n",
       "      <td>151</td>\n",
       "      <td>139</td>\n",
       "      <td>2485</td>\n",
       "      <td>94.406439</td>\n",
       "    </tr>\n",
       "    <tr>\n",
       "      <th>23512</th>\n",
       "      <td>330455</td>\n",
       "      <td>2017</td>\n",
       "      <td>2262</td>\n",
       "      <td>68</td>\n",
       "      <td>77</td>\n",
       "      <td>2407</td>\n",
       "      <td>96.800997</td>\n",
       "    </tr>\n",
       "    <tr>\n",
       "      <th>23513</th>\n",
       "      <td>330455</td>\n",
       "      <td>2018</td>\n",
       "      <td>2186</td>\n",
       "      <td>76</td>\n",
       "      <td>93</td>\n",
       "      <td>2355</td>\n",
       "      <td>96.050955</td>\n",
       "    </tr>\n",
       "    <tr>\n",
       "      <th>23514</th>\n",
       "      <td>330455</td>\n",
       "      <td>2019</td>\n",
       "      <td>2256</td>\n",
       "      <td>99</td>\n",
       "      <td>132</td>\n",
       "      <td>2487</td>\n",
       "      <td>94.692400</td>\n",
       "    </tr>\n",
       "  </tbody>\n",
       "</table>\n",
       "</div>"
      ],
      "text/plain": [
       "      CODMUNRES   Ano OICFSI OISFSI  ONI Total  Indicador\n",
       "23507    330455  2012   1991    167  331  2489  86.701487\n",
       "23508    330455  2013   2100    143  244  2487  90.188983\n",
       "23509    330455  2014   2297     46  111  2454  95.476773\n",
       "23510    330455  2015   2195    100  154  2449  93.711719\n",
       "23511    330455  2016   2195    151  139  2485  94.406439\n",
       "23512    330455  2017   2262     68   77  2407  96.800997\n",
       "23513    330455  2018   2186     76   93  2355  96.050955\n",
       "23514    330455  2019   2256     99  132  2487  94.692400"
      ]
     },
     "execution_count": 22,
     "metadata": {},
     "output_type": "execute_result"
    }
   ],
   "source": [
    "df.loc[df['CODMUNRES'] == '330455']\n",
    "#df.head()"
   ]
  },
  {
   "cell_type": "code",
   "execution_count": 23,
   "metadata": {},
   "outputs": [
    {
     "name": "stdout",
     "output_type": "stream",
     "text": [
      "CPU times: user 2 µs, sys: 1e+03 ns, total: 3 µs\n",
      "Wall time: 6.44 µs\n"
     ]
    }
   ],
   "source": [
    "%time\n",
    "df.to_csv('../csv_files/W-24-proporcao_obitos_mulher_idade_fertil_investigados.csv',index=False)"
   ]
  },
  {
   "cell_type": "code",
   "execution_count": null,
   "metadata": {},
   "outputs": [],
   "source": []
  }
 ],
 "metadata": {
  "kernelspec": {
   "display_name": "Python 3",
   "language": "python",
   "name": "python3"
  },
  "language_info": {
   "codemirror_mode": {
    "name": "ipython",
    "version": 3
   },
   "file_extension": ".py",
   "mimetype": "text/x-python",
   "name": "python",
   "nbconvert_exporter": "python",
   "pygments_lexer": "ipython3",
   "version": "3.8.10"
  },
  "toc-autonumbering": true,
  "toc-showcode": false,
  "toc-showmarkdowntxt": true
 },
 "nbformat": 4,
 "nbformat_minor": 4
}
