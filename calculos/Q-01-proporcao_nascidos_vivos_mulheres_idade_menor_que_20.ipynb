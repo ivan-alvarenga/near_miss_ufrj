{
 "cells": [
  {
   "cell_type": "markdown",
   "metadata": {},
   "source": [
    "# Introdução"
   ]
  },
  {
   "cell_type": "markdown",
   "metadata": {},
   "source": [
    "## Importação das bibliotecas necessarias"
   ]
  },
  {
   "cell_type": "code",
   "execution_count": 13,
   "metadata": {},
   "outputs": [],
   "source": [
    "%matplotlib inline\n",
    "import requests\n",
    "import pandas as pd\n",
    "import os\n",
    "import json\n",
    "import sys\n",
    "import matplotlib.pyplot as plt"
   ]
  },
  {
   "cell_type": "markdown",
   "metadata": {},
   "source": [
    "## Funções auxiliares"
   ]
  },
  {
   "cell_type": "code",
   "execution_count": 14,
   "metadata": {},
   "outputs": [],
   "source": [
    "def return_sql_query(query_string):\n",
    "    ret = {\n",
    "        \"token\": {\n",
    "            \"token\": token\n",
    "        },\n",
    "        \"sql\": {\n",
    "            \"sql\": {\n",
    "                \"query\":query_string\n",
    "            }\n",
    "        }\n",
    "    }\n",
    "    return ret\n",
    "\n",
    "def json_to_df(resp):\n",
    "    columns = [col['name'] for col in resp.json()['columns']]\n",
    "    values = resp.json()['rows']  \n",
    "    return pd.DataFrame(values, columns=columns)\n",
    "\n",
    "def rows_and_columns_to_df(columns, rows):\n",
    "    columns_array = [col['name'] for col in columns]\n",
    "    return pd.DataFrame(rows, columns=columns_array)\n",
    "\n",
    "def fetch_all_data_from_response(res, initial_records_rows):\n",
    "    while 'cursor' in res.json():\n",
    "        res_next = {\n",
    "            \"token\": {\n",
    "                \"token\": token\n",
    "            },\n",
    "            \"sql\": {\n",
    "                \"sql\": {\n",
    "                    \"cursor\": res.json()['cursor']\n",
    "                }\n",
    "            }\n",
    "        }\n",
    "        res = requests.post(os.path.join(url_base,'sql_query'), json=res_next)\n",
    "        initial_records_rows+=res.json()['rows']\n",
    "        sys.stdout.write('.')\n",
    "        sys.stdout.flush()\n",
    "    print('(y)')\n",
    "    return initial_records_rows"
   ]
  },
  {
   "cell_type": "markdown",
   "metadata": {},
   "source": [
    "## Dados de acesso a api"
   ]
  },
  {
   "cell_type": "code",
   "execution_count": 15,
   "metadata": {},
   "outputs": [],
   "source": [
    "from IPython.display import clear_output\n",
    "import getpass\n",
    "\n",
    "token = getpass.getpass('Digite o seu token para acesso a API:')\n",
    "\n",
    "clear_output()"
   ]
  },
  {
   "cell_type": "code",
   "execution_count": 16,
   "metadata": {},
   "outputs": [],
   "source": [
    "url_base = \"https://bigdata-api.fiocruz.br\""
   ]
  },
  {
   "cell_type": "markdown",
   "metadata": {},
   "source": [
    "## Bases de dados disponiveis na API atualizadas"
   ]
  },
  {
   "cell_type": "code",
   "execution_count": 17,
   "metadata": {},
   "outputs": [
    {
     "name": "stdout",
     "output_type": "stream",
     "text": [
      "{'databases': ['datasus-sim', 'datasus-sinasc', 'datasus-sih', 'datasus-cnes-lt-2008-2017', 'datasus-cnes-eq-2008-2017', 'datasus-cnes-pf-2008-2017', 'datasus-cnes-sr-2008-2017', 'datasus-sim-dofet']}\n"
     ]
    }
   ],
   "source": [
    "params = {\n",
    "          \"token\": token\n",
    "        }\n",
    "resp = requests.post(url_base+ '/show_tables', json=params)\n",
    "print(resp.json())"
   ]
  },
  {
   "cell_type": "markdown",
   "metadata": {},
   "source": [
    "## Busca dos campos existentes na base SIM"
   ]
  },
  {
   "cell_type": "code",
   "execution_count": 6,
   "metadata": {},
   "outputs": [
    {
     "name": "stdout",
     "output_type": "stream",
     "text": [
      "CPU times: user 2 µs, sys: 1e+03 ns, total: 3 µs\n",
      "Wall time: 8.11 µs\n",
      "['ACIDTRAB', 'ALTCAUSA', 'ASSISTMED', 'ATESTADO', 'ATESTANTE', 'CAUSABAS', 'CAUSABAS_O', 'CAUSAMAT', 'CB_PRE', 'CIRCOBITO', 'CIRURGIA', 'CODBAIOCOR', 'CODBAIRES', 'CODCART', 'CODESTAB', 'CODIFICADO', 'CODINST', 'CODMUNCART', 'CODMUNNATU', 'CODMUNOCOR', 'CODMUNRES', 'COMUNSVOIM', 'CONTADOR', 'CRM', 'DIFDATA', 'DTATESTADO', 'DTCADASTRO', 'DTCADINF', 'DTCADINV', 'DTCONCASO', 'DTCONINV', 'DTINVESTIG', 'DTNASC', 'DTOBITO', 'DTRECEBIM', 'DTRECORIG', 'DTRECORIGA', 'DTREGCART', 'ESC', 'ESC2010', 'ESCFALAGR1', 'ESCMAE', 'ESCMAE2010', 'ESCMAEAGR1', 'ESTABDESCR', 'ESTCIV', 'EXAME', 'EXPDIFDATA', 'FONTE', 'FONTEINV', 'FONTES', 'FONTESINF', 'GESTACAO', 'GRAVIDEZ', 'HORAOBITO', 'IDADE', 'IDADEMAE', 'LINHAA', 'LINHAB', 'LINHAC', 'LINHAD', 'LINHAII', 'LOCOCOR', 'MORTEPARTO', 'NATURAL', 'NECROPSIA', 'NUDIASINF', 'NUDIASOBCO', 'NUDIASOBIN', 'NUMERODN', 'NUMERODO', 'NUMERODV', 'NUMEROLOTE', 'NUMREGCART', 'NUMSUS', 'OBITOGRAV', 'OBITOPARTO', 'OBITOPUERP', 'OCUP', 'OCUPMAE', 'ORIGEM', 'PARTO', 'PESO', 'QTDFILMORT', 'QTDFILVIVO', 'RACACOR', 'SEMAGESTAC', 'SERIESCFAL', 'SERIESCMAE', 'SEXO', 'STCODIFICA', 'STDOEPIDEM', 'STDONOVA', 'TIPOBITO', 'TIPOOBITO', 'TPASSINA', 'TPMORTEOCO', 'TPNIVELINV', 'TPOBITOCOR', 'TPPOS', 'TPRESGINFO', 'UFINFORM', 'VERSAOSCB', 'VERSAOSIST', 'ano_nasc', 'ano_obito', 'causabas_capitulo', 'causabas_categoria', 'causabas_grupo', 'causabas_subcategoria', 'contador', 'data_nasc', 'data_obito', 'def_acid_trab', 'def_assist_med', 'def_circ_obito', 'def_cirurgia', 'def_escol', 'def_escol_mae', 'def_est_civil', 'def_exame', 'def_fonte', 'def_gestacao', 'def_gravidez', 'def_loc_ocor', 'def_necropsia', 'def_obito_grav', 'def_obito_parto', 'def_obito_puerp', 'def_parto', 'def_raca_cor', 'def_sexo', 'def_tipo_obito', 'dia_semana_nasc', 'dia_semana_obito', 'idade_obito', 'idade_obito_anos', 'idade_obito_calculado', 'idade_obito_dias', 'idade_obito_horas', 'idade_obito_meses', 'idade_obito_mins', 'ocor_ALTITUDE', 'ocor_AMAZONIA', 'ocor_AREA', 'ocor_CAPITAL', 'ocor_CODIGO_UF', 'ocor_CSAUDCOD', 'ocor_FRONTEIRA', 'ocor_LATITUDE', 'ocor_LONGITUDE', 'ocor_MSAUDCOD', 'ocor_MUNNOME', 'ocor_MUNNOMEX', 'ocor_NOME_UF', 'ocor_REGIAO', 'ocor_RSAUDCOD', 'ocor_SIGLA_UF', 'ocor_codigo_adotado', 'ocor_coordenadas', 'res_ALTITUDE', 'res_AMAZONIA', 'res_AREA', 'res_CAPITAL', 'res_CODIGO_UF', 'res_CSAUDCOD', 'res_FRONTEIRA', 'res_LATITUDE', 'res_LONGITUDE', 'res_MSAUDCOD', 'res_MUNNOME', 'res_MUNNOMEX', 'res_NOME_UF', 'res_REGIAO', 'res_RSAUDCOD', 'res_SIGLA_UF', 'res_codigo_adotado', 'res_coordenadas']\n"
     ]
    }
   ],
   "source": [
    "%time\n",
    "sql = {\n",
    "          \"token\": {\n",
    "            \"token\": token\n",
    "          },\n",
    "          \"sql\": {\n",
    "            \"sql\": {\"query\":'describe \"datasus-sim\"'}\n",
    "          }\n",
    "        }\n",
    "resp = requests.post(os.path.join(url_base,'sql_query'), json=sql)\n",
    "fields = [x[0] for x in resp.json()['rows']]\n",
    "print(fields)"
   ]
  },
  {
   "cell_type": "markdown",
   "metadata": {},
   "source": [
    "## Busca dos campos existentes na base SINASC"
   ]
  },
  {
   "cell_type": "code",
   "execution_count": 7,
   "metadata": {},
   "outputs": [
    {
     "name": "stdout",
     "output_type": "stream",
     "text": [
      "CPU times: user 3 µs, sys: 0 ns, total: 3 µs\n",
      "Wall time: 7.87 µs\n",
      "['APGAR1', 'APGAR5', 'CODANOMAL', 'CODBAINASC', 'CODBAIRES', 'CODCART', 'CODESTAB', 'CODINST', 'CODMUNCART', 'CODMUNNASC', 'CODMUNNATU', 'CODMUNRES', 'CODOCUPMAE', 'CODPAISRES', 'CODUFNATU', 'CONSPRENAT', 'CONSULTAS', 'CONTADOR', 'DIFDATA', 'DTCADASTRO', 'DTDECLARAC', 'DTNASC', 'DTNASCMAE', 'DTRECEBIM', 'DTRECORIG', 'DTRECORIGA', 'DTREGCART', 'DTULTMENST', 'ESCMAE', 'ESCMAE2010', 'ESCMAEAGR1', 'ESTCIVMAE', 'GESTACAO', 'GRAVIDEZ', 'HORANASC', 'IDADEMAE', 'IDADEPAI', 'IDANOMAL', 'KOTELCHUCK', 'LOCNASC', 'MESPRENAT', 'NATURALMAE', 'NOVO', 'NUMERODN', 'NUMERODV', 'NUMEROLOTE', 'NUMREGCART', 'ORIGEM', 'PARIDADE', 'PARTO', 'PESO', 'PREFIXODN', 'QTDFILMORT', 'QTDFILVIVO', 'QTDGESTANT', 'QTDPARTCES', 'QTDPARTNOR', 'RACACOR', 'RACACORMAE', 'RACACORN', 'RACACOR_RN', 'SEMAGESTAC', 'SERIESCMAE', 'SEXO', 'STCESPARTO', 'STDNEPIDEM', 'STDNNOVA', 'STTRABPART', 'TPAPRESENT', 'TPDOCRESP', 'TPFUNCRESP', 'TPMETESTIM', 'TPNASCASSI', 'TPROBSON', 'UFINFORM', 'VERSAOSIST', 'VERSAOSIST.keyword', 'ano_nasc', 'codanomal_capitulo', 'codanomal_categoria', 'codanomal_grupo', 'codanomal_subcategoria', 'contador', 'data_nasc', 'def_anomalia', 'def_anomalia.keyword', 'def_consultas', 'def_escol_mae', 'def_est_civil', 'def_gestacao', 'def_gravidez', 'def_loc_nasc', 'def_parto', 'def_parto_prematuro', 'def_parto_prematuro.keyword', 'def_raca_cor', 'def_sexo', 'dia_semana_nasc', 'nasc_ALTITUDE', 'nasc_AMAZONIA', 'nasc_AREA', 'nasc_CAPITAL', 'nasc_CODIGO_UF', 'nasc_CSAUDCOD', 'nasc_FRONTEIRA', 'nasc_LATITUDE', 'nasc_LONGITUDE', 'nasc_MSAUDCOD', 'nasc_MUNNOME', 'nasc_MUNNOMEX', 'nasc_NOME_UF', 'nasc_REGIAO', 'nasc_REGIAO.keyword', 'nasc_RSAUDCOD', 'nasc_SIGLA_UF', 'nasc_codigo_adotado', 'nasc_coordenadas', 'parto_prematuro', 'res_ALTITUDE', 'res_AMAZONIA', 'res_ANOEXT', 'res_ANOEXT.keyword', 'res_AREA', 'res_CAPITAL', 'res_CODIGO_UF', 'res_CSAUDCOD', 'res_FRONTEIRA', 'res_LATITUDE', 'res_LONGITUDE', 'res_MSAUDCOD', 'res_MUNNOME', 'res_MUNNOMEX', 'res_NOME_UF', 'res_REGIAO', 'res_REGIAO.keyword', 'res_RSAUDCOD', 'res_SIGLA_UF', 'res_SUCESSOR', 'res_SUCESSOR.keyword', 'res_codigo_adotado', 'res_coordenadas']\n"
     ]
    }
   ],
   "source": [
    "%time\n",
    "sql = {\n",
    "          \"token\": {\n",
    "            \"token\": token\n",
    "          },\n",
    "          \"sql\": {\n",
    "            \"sql\": {\"query\":'describe \"datasus-sinasc\"'}\n",
    "          }\n",
    "        }\n",
    "resp = requests.post(os.path.join(url_base,'sql_query'), json=sql)\n",
    "fields = [x[0] for x in resp.json()['rows']]\n",
    "print(fields)"
   ]
  },
  {
   "cell_type": "markdown",
   "metadata": {
    "toc-hr-collapsed": false
   },
   "source": [
    "# Proporção de nascidos vivos de mulheres com idade inferior a 20 anos (gestação na adolescência) (SINASC)"
   ]
  },
  {
   "cell_type": "markdown",
   "metadata": {
    "toc-hr-collapsed": false
   },
   "source": [
    "A ideia inicial era explorar os dados de todo o Brasil do período de 2012 a 2019.\n",
    "Como a tabela SIH-RD tratada e filtrada que temos é do período de 2018 até 2019 e apenas do Estado de São Paulo, iremos utilizar o mesmo subconjunto."
   ]
  },
  {
   "cell_type": "code",
   "execution_count": 18,
   "metadata": {},
   "outputs": [
    {
     "name": "stdout",
     "output_type": "stream",
     "text": [
      "CPU times: user 3 µs, sys: 2 µs, total: 5 µs\n",
      "Wall time: 10.7 µs\n",
      "...................................................(y)\n",
      "Record rows length : 50268\n"
     ]
    }
   ],
   "source": [
    "%time\n",
    "sql_t_nasc_vivos = return_sql_query(\"SELECT CODMUNRES, ano_nasc, count(*) as Qtd_Total  \\\n",
    "                    FROM \\\"datasus-sinasc\\\" \\\n",
    "                    WHERE ano_nasc>=2012 AND \\\n",
    "                    ano_nasc<=2020 \\\n",
    "                    GROUP BY CODMUNRES, ano_nasc\")\n",
    "resp_sql_t_nasc_vivos = requests.post(os.path.join(url_base,'sql_query'), json=sql_t_nasc_vivos)\n",
    "record_columns=resp_sql_t_nasc_vivos.json()['columns']\n",
    "record_rows=resp_sql_t_nasc_vivos.json()['rows']\n",
    "\n",
    "fetch_all_data_from_response(resp_sql_t_nasc_vivos, record_rows)\n",
    "print(\"Record rows length : \"+str(len(record_rows)))\n",
    "\n",
    "df_t_nasc_vivos = rows_and_columns_to_df(record_columns, record_rows)"
   ]
  },
  {
   "cell_type": "code",
   "execution_count": 19,
   "metadata": {},
   "outputs": [
    {
     "name": "stdout",
     "output_type": "stream",
     "text": [
      "CPU times: user 5 µs, sys: 0 ns, total: 5 µs\n",
      "Wall time: 11 µs\n",
      "..................................................(y)\n",
      "Record rows length : 49810\n"
     ]
    }
   ],
   "source": [
    "%time\n",
    "sql_menor20 = return_sql_query(\"SELECT CODMUNRES, ano_nasc, count(*) as Qtd_Menor20  \\\n",
    "                    FROM \\\"datasus-sinasc\\\" \\\n",
    "                    WHERE ano_nasc>=2012 AND \\\n",
    "                    ano_nasc<=2020 AND \\\n",
    "                    IDADEMAE>=10 AND \\\n",
    "                    IDADEMAE<=19 \\\n",
    "                    GROUP BY CODMUNRES, ano_nasc\")\n",
    "\n",
    "resp_sql_menor20 = requests.post(os.path.join(url_base,'sql_query'), json=sql_menor20)\n",
    "record_columns=resp_sql_menor20.json()['columns']\n",
    "record_rows=resp_sql_menor20.json()['rows']\n",
    "\n",
    "fetch_all_data_from_response(resp_sql_menor20, record_rows)\n",
    "print(\"Record rows length : \"+str(len(record_rows)))\n",
    "\n",
    "df_menor20 = rows_and_columns_to_df(record_columns, record_rows)"
   ]
  },
  {
   "cell_type": "code",
   "execution_count": 20,
   "metadata": {},
   "outputs": [
    {
     "data": {
      "text/html": [
       "<div>\n",
       "<style scoped>\n",
       "    .dataframe tbody tr th:only-of-type {\n",
       "        vertical-align: middle;\n",
       "    }\n",
       "\n",
       "    .dataframe tbody tr th {\n",
       "        vertical-align: top;\n",
       "    }\n",
       "\n",
       "    .dataframe thead th {\n",
       "        text-align: right;\n",
       "    }\n",
       "</style>\n",
       "<table border=\"1\" class=\"dataframe\">\n",
       "  <thead>\n",
       "    <tr style=\"text-align: right;\">\n",
       "      <th></th>\n",
       "      <th>CODMUNRES</th>\n",
       "      <th>ano_nasc</th>\n",
       "      <th>Qtd_Menor20</th>\n",
       "    </tr>\n",
       "  </thead>\n",
       "  <tbody>\n",
       "    <tr>\n",
       "      <th>0</th>\n",
       "      <td>110000</td>\n",
       "      <td>2012</td>\n",
       "      <td>1</td>\n",
       "    </tr>\n",
       "    <tr>\n",
       "      <th>1</th>\n",
       "      <td>110000</td>\n",
       "      <td>2013</td>\n",
       "      <td>9</td>\n",
       "    </tr>\n",
       "    <tr>\n",
       "      <th>2</th>\n",
       "      <td>110000</td>\n",
       "      <td>2016</td>\n",
       "      <td>1</td>\n",
       "    </tr>\n",
       "    <tr>\n",
       "      <th>3</th>\n",
       "      <td>110001</td>\n",
       "      <td>2012</td>\n",
       "      <td>76</td>\n",
       "    </tr>\n",
       "    <tr>\n",
       "      <th>4</th>\n",
       "      <td>110001</td>\n",
       "      <td>2013</td>\n",
       "      <td>79</td>\n",
       "    </tr>\n",
       "  </tbody>\n",
       "</table>\n",
       "</div>"
      ],
      "text/plain": [
       "  CODMUNRES  ano_nasc  Qtd_Menor20\n",
       "0    110000      2012            1\n",
       "1    110000      2013            9\n",
       "2    110000      2016            1\n",
       "3    110001      2012           76\n",
       "4    110001      2013           79"
      ]
     },
     "execution_count": 20,
     "metadata": {},
     "output_type": "execute_result"
    }
   ],
   "source": [
    "df_menor20.head()"
   ]
  },
  {
   "cell_type": "code",
   "execution_count": 21,
   "metadata": {},
   "outputs": [
    {
     "data": {
      "text/html": [
       "<div>\n",
       "<style scoped>\n",
       "    .dataframe tbody tr th:only-of-type {\n",
       "        vertical-align: middle;\n",
       "    }\n",
       "\n",
       "    .dataframe tbody tr th {\n",
       "        vertical-align: top;\n",
       "    }\n",
       "\n",
       "    .dataframe thead th {\n",
       "        text-align: right;\n",
       "    }\n",
       "</style>\n",
       "<table border=\"1\" class=\"dataframe\">\n",
       "  <thead>\n",
       "    <tr style=\"text-align: right;\">\n",
       "      <th></th>\n",
       "      <th>CODMUNRES</th>\n",
       "      <th>ano_nasc</th>\n",
       "      <th>Qtd_Total</th>\n",
       "    </tr>\n",
       "  </thead>\n",
       "  <tbody>\n",
       "    <tr>\n",
       "      <th>0</th>\n",
       "      <td>110000</td>\n",
       "      <td>2012</td>\n",
       "      <td>2</td>\n",
       "    </tr>\n",
       "    <tr>\n",
       "      <th>1</th>\n",
       "      <td>110000</td>\n",
       "      <td>2013</td>\n",
       "      <td>16</td>\n",
       "    </tr>\n",
       "    <tr>\n",
       "      <th>2</th>\n",
       "      <td>110000</td>\n",
       "      <td>2014</td>\n",
       "      <td>4</td>\n",
       "    </tr>\n",
       "    <tr>\n",
       "      <th>3</th>\n",
       "      <td>110000</td>\n",
       "      <td>2015</td>\n",
       "      <td>4</td>\n",
       "    </tr>\n",
       "    <tr>\n",
       "      <th>4</th>\n",
       "      <td>110000</td>\n",
       "      <td>2016</td>\n",
       "      <td>2</td>\n",
       "    </tr>\n",
       "  </tbody>\n",
       "</table>\n",
       "</div>"
      ],
      "text/plain": [
       "  CODMUNRES  ano_nasc  Qtd_Total\n",
       "0    110000      2012          2\n",
       "1    110000      2013         16\n",
       "2    110000      2014          4\n",
       "3    110000      2015          4\n",
       "4    110000      2016          2"
      ]
     },
     "execution_count": 21,
     "metadata": {},
     "output_type": "execute_result"
    }
   ],
   "source": [
    "df_t_nasc_vivos.head()"
   ]
  },
  {
   "cell_type": "code",
   "execution_count": 22,
   "metadata": {},
   "outputs": [
    {
     "data": {
      "text/html": [
       "<div>\n",
       "<style scoped>\n",
       "    .dataframe tbody tr th:only-of-type {\n",
       "        vertical-align: middle;\n",
       "    }\n",
       "\n",
       "    .dataframe tbody tr th {\n",
       "        vertical-align: top;\n",
       "    }\n",
       "\n",
       "    .dataframe thead th {\n",
       "        text-align: right;\n",
       "    }\n",
       "</style>\n",
       "<table border=\"1\" class=\"dataframe\">\n",
       "  <thead>\n",
       "    <tr style=\"text-align: right;\">\n",
       "      <th></th>\n",
       "      <th>CODMUNRES</th>\n",
       "      <th>ano_nasc</th>\n",
       "      <th>Qtd_Menor20</th>\n",
       "      <th>Qtd_Total</th>\n",
       "      <th>Ratio</th>\n",
       "    </tr>\n",
       "  </thead>\n",
       "  <tbody>\n",
       "    <tr>\n",
       "      <th>0</th>\n",
       "      <td>110000</td>\n",
       "      <td>2012</td>\n",
       "      <td>1.0</td>\n",
       "      <td>2</td>\n",
       "      <td>0.5000</td>\n",
       "    </tr>\n",
       "    <tr>\n",
       "      <th>1</th>\n",
       "      <td>110000</td>\n",
       "      <td>2013</td>\n",
       "      <td>9.0</td>\n",
       "      <td>16</td>\n",
       "      <td>0.5625</td>\n",
       "    </tr>\n",
       "    <tr>\n",
       "      <th>2</th>\n",
       "      <td>110000</td>\n",
       "      <td>2014</td>\n",
       "      <td>0.0</td>\n",
       "      <td>4</td>\n",
       "      <td>0.0000</td>\n",
       "    </tr>\n",
       "    <tr>\n",
       "      <th>3</th>\n",
       "      <td>110000</td>\n",
       "      <td>2015</td>\n",
       "      <td>0.0</td>\n",
       "      <td>4</td>\n",
       "      <td>0.0000</td>\n",
       "    </tr>\n",
       "    <tr>\n",
       "      <th>4</th>\n",
       "      <td>110000</td>\n",
       "      <td>2016</td>\n",
       "      <td>1.0</td>\n",
       "      <td>2</td>\n",
       "      <td>0.5000</td>\n",
       "    </tr>\n",
       "  </tbody>\n",
       "</table>\n",
       "</div>"
      ],
      "text/plain": [
       "  CODMUNRES  ano_nasc  Qtd_Menor20  Qtd_Total   Ratio\n",
       "0    110000      2012          1.0          2  0.5000\n",
       "1    110000      2013          9.0         16  0.5625\n",
       "2    110000      2014          0.0          4  0.0000\n",
       "3    110000      2015          0.0          4  0.0000\n",
       "4    110000      2016          1.0          2  0.5000"
      ]
     },
     "execution_count": 22,
     "metadata": {},
     "output_type": "execute_result"
    }
   ],
   "source": [
    "df_merge = pd.merge(df_menor20, df_t_nasc_vivos, how='right', on=['CODMUNRES','ano_nasc'])\n",
    "df_merge = df_merge.fillna(0)\n",
    "df_merge['Ratio'] = df_merge['Qtd_Menor20']/df_merge['Qtd_Total']\n",
    "df_merge.head()"
   ]
  },
  {
   "cell_type": "code",
   "execution_count": 23,
   "metadata": {},
   "outputs": [
    {
     "name": "stdout",
     "output_type": "stream",
     "text": [
      "CPU times: user 6 µs, sys: 0 ns, total: 6 µs\n",
      "Wall time: 11.2 µs\n"
     ]
    }
   ],
   "source": [
    "%time\n",
    "df_merge.to_csv('../csv_files/Q-01-proporcao_gravidez_idade_menor_que_20.csv',index=False)"
   ]
  },
  {
   "cell_type": "markdown",
   "metadata": {},
   "source": [
    "# Gráficos"
   ]
  },
  {
   "cell_type": "code",
   "execution_count": 13,
   "metadata": {},
   "outputs": [
    {
     "data": {
      "text/html": [
       "<div>\n",
       "<style scoped>\n",
       "    .dataframe tbody tr th:only-of-type {\n",
       "        vertical-align: middle;\n",
       "    }\n",
       "\n",
       "    .dataframe tbody tr th {\n",
       "        vertical-align: top;\n",
       "    }\n",
       "\n",
       "    .dataframe thead th {\n",
       "        text-align: right;\n",
       "    }\n",
       "</style>\n",
       "<table border=\"1\" class=\"dataframe\">\n",
       "  <thead>\n",
       "    <tr style=\"text-align: right;\">\n",
       "      <th></th>\n",
       "      <th>CODMUNRES</th>\n",
       "      <th>ano_nasc</th>\n",
       "      <th>Qtd_Menor20</th>\n",
       "      <th>Qtd_Total</th>\n",
       "      <th>Ratio</th>\n",
       "    </tr>\n",
       "  </thead>\n",
       "  <tbody>\n",
       "    <tr>\n",
       "      <th>0</th>\n",
       "      <td>110000</td>\n",
       "      <td>2012</td>\n",
       "      <td>1.0</td>\n",
       "      <td>2</td>\n",
       "      <td>0.500000</td>\n",
       "    </tr>\n",
       "    <tr>\n",
       "      <th>1</th>\n",
       "      <td>110000</td>\n",
       "      <td>2013</td>\n",
       "      <td>9.0</td>\n",
       "      <td>16</td>\n",
       "      <td>0.562500</td>\n",
       "    </tr>\n",
       "    <tr>\n",
       "      <th>2</th>\n",
       "      <td>110000</td>\n",
       "      <td>2014</td>\n",
       "      <td>0.0</td>\n",
       "      <td>4</td>\n",
       "      <td>0.000000</td>\n",
       "    </tr>\n",
       "    <tr>\n",
       "      <th>3</th>\n",
       "      <td>110000</td>\n",
       "      <td>2015</td>\n",
       "      <td>1.0</td>\n",
       "      <td>4</td>\n",
       "      <td>0.250000</td>\n",
       "    </tr>\n",
       "    <tr>\n",
       "      <th>4</th>\n",
       "      <td>110000</td>\n",
       "      <td>2016</td>\n",
       "      <td>1.0</td>\n",
       "      <td>2</td>\n",
       "      <td>0.500000</td>\n",
       "    </tr>\n",
       "    <tr>\n",
       "      <th>5</th>\n",
       "      <td>110000</td>\n",
       "      <td>2018</td>\n",
       "      <td>0.0</td>\n",
       "      <td>2</td>\n",
       "      <td>0.000000</td>\n",
       "    </tr>\n",
       "    <tr>\n",
       "      <th>6</th>\n",
       "      <td>110000</td>\n",
       "      <td>2019</td>\n",
       "      <td>0.0</td>\n",
       "      <td>1</td>\n",
       "      <td>0.000000</td>\n",
       "    </tr>\n",
       "    <tr>\n",
       "      <th>7</th>\n",
       "      <td>110001</td>\n",
       "      <td>2012</td>\n",
       "      <td>99.0</td>\n",
       "      <td>386</td>\n",
       "      <td>0.256477</td>\n",
       "    </tr>\n",
       "    <tr>\n",
       "      <th>8</th>\n",
       "      <td>110001</td>\n",
       "      <td>2013</td>\n",
       "      <td>106.0</td>\n",
       "      <td>382</td>\n",
       "      <td>0.277487</td>\n",
       "    </tr>\n",
       "    <tr>\n",
       "      <th>9</th>\n",
       "      <td>110001</td>\n",
       "      <td>2014</td>\n",
       "      <td>95.0</td>\n",
       "      <td>341</td>\n",
       "      <td>0.278592</td>\n",
       "    </tr>\n",
       "  </tbody>\n",
       "</table>\n",
       "</div>"
      ],
      "text/plain": [
       "   CODMUNRES  ano_nasc  Qtd_Menor20  Qtd_Total     Ratio\n",
       "0     110000      2012          1.0          2  0.500000\n",
       "1     110000      2013          9.0         16  0.562500\n",
       "2     110000      2014          0.0          4  0.000000\n",
       "3     110000      2015          1.0          4  0.250000\n",
       "4     110000      2016          1.0          2  0.500000\n",
       "5     110000      2018          0.0          2  0.000000\n",
       "6     110000      2019          0.0          1  0.000000\n",
       "7     110001      2012         99.0        386  0.256477\n",
       "8     110001      2013        106.0        382  0.277487\n",
       "9     110001      2014         95.0        341  0.278592"
      ]
     },
     "execution_count": 13,
     "metadata": {},
     "output_type": "execute_result"
    }
   ],
   "source": [
    "dataframe = pd.read_csv('../csv_files/Q-01-proporcao_gravidez_idade_menor_que_20.csv')\n",
    "dataframe.head(10)"
   ]
  },
  {
   "cell_type": "markdown",
   "metadata": {},
   "source": [
    "## Filtrar por Código de Município"
   ]
  },
  {
   "cell_type": "code",
   "execution_count": 15,
   "metadata": {},
   "outputs": [
    {
     "name": "stdin",
     "output_type": "stream",
     "text": [
      "Diga o código do município que deseja visualizar: \n",
      " 355030\n"
     ]
    },
    {
     "name": "stdout",
     "output_type": "stream",
     "text": [
      "\n"
     ]
    },
    {
     "data": {
      "text/html": [
       "<div>\n",
       "<style scoped>\n",
       "    .dataframe tbody tr th:only-of-type {\n",
       "        vertical-align: middle;\n",
       "    }\n",
       "\n",
       "    .dataframe tbody tr th {\n",
       "        vertical-align: top;\n",
       "    }\n",
       "\n",
       "    .dataframe thead th {\n",
       "        text-align: right;\n",
       "    }\n",
       "</style>\n",
       "<table border=\"1\" class=\"dataframe\">\n",
       "  <thead>\n",
       "    <tr style=\"text-align: right;\">\n",
       "      <th></th>\n",
       "      <th>CODMUNRES</th>\n",
       "      <th>ano_nasc</th>\n",
       "      <th>Qtd_Menor20</th>\n",
       "      <th>Qtd_Total</th>\n",
       "      <th>Ratio</th>\n",
       "    </tr>\n",
       "  </thead>\n",
       "  <tbody>\n",
       "    <tr>\n",
       "      <th>30735</th>\n",
       "      <td>355030</td>\n",
       "      <td>2012</td>\n",
       "      <td>30867.0</td>\n",
       "      <td>175904</td>\n",
       "      <td>0.175476</td>\n",
       "    </tr>\n",
       "    <tr>\n",
       "      <th>30736</th>\n",
       "      <td>355030</td>\n",
       "      <td>2013</td>\n",
       "      <td>30744.0</td>\n",
       "      <td>172987</td>\n",
       "      <td>0.177724</td>\n",
       "    </tr>\n",
       "    <tr>\n",
       "      <th>30737</th>\n",
       "      <td>355030</td>\n",
       "      <td>2014</td>\n",
       "      <td>30693.0</td>\n",
       "      <td>175840</td>\n",
       "      <td>0.174551</td>\n",
       "    </tr>\n",
       "    <tr>\n",
       "      <th>30738</th>\n",
       "      <td>355030</td>\n",
       "      <td>2015</td>\n",
       "      <td>30009.0</td>\n",
       "      <td>176313</td>\n",
       "      <td>0.170203</td>\n",
       "    </tr>\n",
       "    <tr>\n",
       "      <th>30739</th>\n",
       "      <td>355030</td>\n",
       "      <td>2016</td>\n",
       "      <td>27292.0</td>\n",
       "      <td>167303</td>\n",
       "      <td>0.163129</td>\n",
       "    </tr>\n",
       "    <tr>\n",
       "      <th>30740</th>\n",
       "      <td>355030</td>\n",
       "      <td>2017</td>\n",
       "      <td>25974.0</td>\n",
       "      <td>169299</td>\n",
       "      <td>0.153421</td>\n",
       "    </tr>\n",
       "    <tr>\n",
       "      <th>30741</th>\n",
       "      <td>355030</td>\n",
       "      <td>2018</td>\n",
       "      <td>23763.0</td>\n",
       "      <td>165355</td>\n",
       "      <td>0.143709</td>\n",
       "    </tr>\n",
       "    <tr>\n",
       "      <th>30742</th>\n",
       "      <td>355030</td>\n",
       "      <td>2019</td>\n",
       "      <td>21642.0</td>\n",
       "      <td>158587</td>\n",
       "      <td>0.136468</td>\n",
       "    </tr>\n",
       "  </tbody>\n",
       "</table>\n",
       "</div>"
      ],
      "text/plain": [
       "       CODMUNRES  ano_nasc  Qtd_Menor20  Qtd_Total     Ratio\n",
       "30735     355030      2012      30867.0     175904  0.175476\n",
       "30736     355030      2013      30744.0     172987  0.177724\n",
       "30737     355030      2014      30693.0     175840  0.174551\n",
       "30738     355030      2015      30009.0     176313  0.170203\n",
       "30739     355030      2016      27292.0     167303  0.163129\n",
       "30740     355030      2017      25974.0     169299  0.153421\n",
       "30741     355030      2018      23763.0     165355  0.143709\n",
       "30742     355030      2019      21642.0     158587  0.136468"
      ]
     },
     "execution_count": 15,
     "metadata": {},
     "output_type": "execute_result"
    }
   ],
   "source": [
    "subset_mun = dataframe[ dataframe[\"CODMUNRES\"] == int( input(\"Diga o código do município que deseja visualizar: \\n\") ) ]\n",
    "print()\n",
    "subset_mun.head(10)\n",
    "# SP-SP: 355030"
   ]
  },
  {
   "cell_type": "markdown",
   "metadata": {},
   "source": [
    "### Plot de Ratio por Ano no município escolhido"
   ]
  },
  {
   "cell_type": "code",
   "execution_count": 116,
   "metadata": {},
   "outputs": [
    {
     "data": {
      "image/png": "[encoded data removed]",
      "text/plain": [
       "<Figure size 1440x864 with 1 Axes>"
      ]
     },
     "metadata": {
      "needs_background": "light"
     },
     "output_type": "display_data"
    }
   ],
   "source": [
    "plt.figure(figsize=(20, 12))\n",
    "\n",
    "font = {'family' : 'DejaVu Sans',\n",
    "        'weight' : 'bold',\n",
    "        'size'   : 14}\n",
    "\n",
    "plt.title(\"Porcentagem do indicador em relação ao total para cada ano no município de São Paulo\",**font)\n",
    "plt.xlabel('Anos',**font)\n",
    "plt.ylabel('Porcentagem',**font)\n",
    "\n",
    "plt.bar(subset_mun[\"ano_nasc\"],100*subset_mun[\"Ratio\"], color ='#3458FF')\n",
    "plt.show()"
   ]
  },
  {
   "cell_type": "markdown",
   "metadata": {},
   "source": [
    "### Plot em Stacked Bar do município escolhido"
   ]
  },
  {
   "cell_type": "markdown",
   "metadata": {},
   "source": [
    "Aqui são plotadas as barras de Quantidade do Indicador e Quantidade Fora do Indicador, o que permite visualizar a proporção para cada ano no município escolhido."
   ]
  },
  {
   "cell_type": "code",
   "execution_count": 117,
   "metadata": {},
   "outputs": [
    {
     "data": {
      "image/png": "[encoded data removed]",
      "text/plain": [
       "<Figure size 1728x1008 with 1 Axes>"
      ]
     },
     "metadata": {
      "needs_background": "light"
     },
     "output_type": "display_data"
    }
   ],
   "source": [
    "ano = subset_mun.columns[1] \n",
    "indicador = subset_mun.columns[2]\n",
    "total = subset_mun.columns[3]\n",
    "\n",
    "fig, ax = plt.subplots(figsize=(24, 14))\n",
    "\n",
    "p1=ax.bar( subset_mun[ano], subset_mun[total] - subset_mun[indicador], bottom=subset_mun[indicador], color ='#15E9E4', label = 'Fora do indicador')\n",
    "p2=ax.bar( subset_mun[ano], subset_mun[indicador], color ='#DE0B81', label = 'Dentro do indicador')\n",
    "\n",
    "font = {'family' : 'DejaVu Sans',\n",
    "        'weight' : 'bold',\n",
    "        'size'   : 14}\n",
    "\n",
    "plt.title(\"Quantidade dentro do Indicador e Quantidade Fora do Indicador no município de São Paulo\",**font)\n",
    "plt.xlabel('Anos',**font)\n",
    "plt.ylabel('Quantidades',**font)\n",
    "\n",
    "ax.bar_label(p1,label_type=\"center\")\n",
    "ax.bar_label(p2,label_type=\"center\")\n",
    "ax.legend()\n",
    "plt.show()"
   ]
  },
  {
   "cell_type": "markdown",
   "metadata": {},
   "source": [
    "## Filtrar por ano"
   ]
  },
  {
   "cell_type": "code",
   "execution_count": 85,
   "metadata": {},
   "outputs": [
    {
     "name": "stdin",
     "output_type": "stream",
     "text": [
      "Diga ano que deseja visualizar: \n",
      " 2018\n"
     ]
    },
    {
     "name": "stdout",
     "output_type": "stream",
     "text": [
      "\n"
     ]
    },
    {
     "data": {
      "text/html": [
       "<div>\n",
       "<style scoped>\n",
       "    .dataframe tbody tr th:only-of-type {\n",
       "        vertical-align: middle;\n",
       "    }\n",
       "\n",
       "    .dataframe tbody tr th {\n",
       "        vertical-align: top;\n",
       "    }\n",
       "\n",
       "    .dataframe thead th {\n",
       "        text-align: right;\n",
       "    }\n",
       "</style>\n",
       "<table border=\"1\" class=\"dataframe\">\n",
       "  <thead>\n",
       "    <tr style=\"text-align: right;\">\n",
       "      <th></th>\n",
       "      <th>CODMUNRES</th>\n",
       "      <th>ano_nasc</th>\n",
       "      <th>Qtd_Menor20</th>\n",
       "      <th>Qtd_Total</th>\n",
       "      <th>Ratio</th>\n",
       "    </tr>\n",
       "  </thead>\n",
       "  <tbody>\n",
       "    <tr>\n",
       "      <th>5</th>\n",
       "      <td>110000</td>\n",
       "      <td>2018</td>\n",
       "      <td>0.0</td>\n",
       "      <td>2</td>\n",
       "      <td>0.000000</td>\n",
       "    </tr>\n",
       "    <tr>\n",
       "      <th>13</th>\n",
       "      <td>110001</td>\n",
       "      <td>2018</td>\n",
       "      <td>79.0</td>\n",
       "      <td>408</td>\n",
       "      <td>0.193627</td>\n",
       "    </tr>\n",
       "    <tr>\n",
       "      <th>21</th>\n",
       "      <td>110002</td>\n",
       "      <td>2018</td>\n",
       "      <td>409.0</td>\n",
       "      <td>1682</td>\n",
       "      <td>0.243163</td>\n",
       "    </tr>\n",
       "    <tr>\n",
       "      <th>29</th>\n",
       "      <td>110003</td>\n",
       "      <td>2018</td>\n",
       "      <td>12.0</td>\n",
       "      <td>82</td>\n",
       "      <td>0.146341</td>\n",
       "    </tr>\n",
       "    <tr>\n",
       "      <th>37</th>\n",
       "      <td>110004</td>\n",
       "      <td>2018</td>\n",
       "      <td>290.0</td>\n",
       "      <td>1446</td>\n",
       "      <td>0.200553</td>\n",
       "    </tr>\n",
       "  </tbody>\n",
       "</table>\n",
       "</div>"
      ],
      "text/plain": [
       "    CODMUNRES  ano_nasc  Qtd_Menor20  Qtd_Total     Ratio\n",
       "5      110000      2018          0.0          2  0.000000\n",
       "13     110001      2018         79.0        408  0.193627\n",
       "21     110002      2018        409.0       1682  0.243163\n",
       "29     110003      2018         12.0         82  0.146341\n",
       "37     110004      2018        290.0       1446  0.200553"
      ]
     },
     "execution_count": 85,
     "metadata": {},
     "output_type": "execute_result"
    }
   ],
   "source": [
    "ano = subset_mun.columns[1] \n",
    "ano_int = int( input(\"Diga ano que deseja visualizar: \\n\") )\n",
    "subset_ano = dataframe[ dataframe[ano] == ano_int ]\n",
    "print()\n",
    "subset_ano.head()"
   ]
  },
  {
   "cell_type": "markdown",
   "metadata": {},
   "source": [
    "### TODO: Decidir qual é a melhor forma de gerar gráficos relativos ao ano escolhido"
   ]
  },
  {
   "cell_type": "code",
   "execution_count": null,
   "metadata": {},
   "outputs": [],
   "source": []
  }
 ],
 "metadata": {
  "kernelspec": {
   "display_name": "Python 3",
   "language": "python",
   "name": "python3"
  },
  "language_info": {
   "codemirror_mode": {
    "name": "ipython",
    "version": 3
   },
   "file_extension": ".py",
   "mimetype": "text/x-python",
   "name": "python",
   "nbconvert_exporter": "python",
   "pygments_lexer": "ipython3",
   "version": "3.8.10"
  },
  "toc-autonumbering": true,
  "toc-showcode": false,
  "toc-showmarkdowntxt": true
 },
 "nbformat": 4,
 "nbformat_minor": 4
}
